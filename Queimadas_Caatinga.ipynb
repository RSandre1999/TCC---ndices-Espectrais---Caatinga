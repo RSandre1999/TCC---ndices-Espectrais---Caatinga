{
  "cells": [
    {
      "cell_type": "markdown",
      "metadata": {
        "id": "bnNF96n9vqa0"
      },
      "source": [
        "## **Python notebook: Índices Espectrais - Bioma da Caatinga** 🛰🔥\n",
        "---\n",
        "\n",
        "\n",
        "\n",
        "\n",
        "\n"
      ]
    },
    {
      "cell_type": "markdown",
      "metadata": {
        "id": "NDczFeWX3_6J"
      },
      "source": [
        "## **Instalando e importando bibliotecas**\n",
        "---\n",
        "\n",
        "\n",
        "\n",
        "\n",
        "\n",
        "\n",
        "\n"
      ]
    },
    {
      "cell_type": "code",
      "execution_count": null,
      "metadata": {
        "id": "Zh2NIEu3exH1"
      },
      "outputs": [],
      "source": [
        "#!pip install geospatial\n",
        "#Esta linha de código é responsável por realizar a instalação de diversos pacotes comummente utilizados em geoprocessamento e produção de gráficos\n",
        "#Já este link apresenta as orientações de como utilizar pacotes gráficos: https://python-graph-gallery.com/"
      ]
    },
    {
      "cell_type": "code",
      "source": [
        "!pip install geemap"
      ],
      "metadata": {
        "id": "iH9DhckGiYHE"
      },
      "execution_count": null,
      "outputs": []
    },
    {
      "cell_type": "code",
      "source": [
        "!pip install eemont\n",
        "!pip install wxee\n",
        "!pip install seaborn proplot matplotlib==3.4.0\n",
        "!pip install geopandas"
      ],
      "metadata": {
        "id": "P_Ik8YgF1ne1"
      },
      "execution_count": null,
      "outputs": []
    },
    {
      "cell_type": "code",
      "execution_count": null,
      "metadata": {
        "id": "b_TwxxJGZqnY"
      },
      "outputs": [],
      "source": [
        "import ee\n",
        "import eemont\n",
        "import geemap\n",
        "import json\n",
        "import geopandas as gpd\n",
        "import pandas as pd\n",
        "import numpy as np\n",
        "import geemap.colormaps as cm\n",
        "import matplotlib.pyplot as plt\n",
        "ee.Authenticate()\n",
        "ee.Initialize()"
      ]
    },
    {
      "cell_type": "code",
      "execution_count": null,
      "metadata": {
        "id": "6CJRCFU1ecn6"
      },
      "outputs": [],
      "source": [
        "import warnings\n",
        "warnings.filterwarnings(\"ignore\")"
      ]
    },
    {
      "cell_type": "code",
      "execution_count": null,
      "metadata": {
        "id": "TWsAd2TEkKZe",
        "colab": {
          "base_uri": "https://localhost:8080/"
        },
        "outputId": "fb0d3fc6-485f-4715-9cdb-49087cdb9ff3"
      },
      "outputs": [
        {
          "output_type": "stream",
          "name": "stdout",
          "text": [
            "Drive already mounted at /content/drive; to attempt to forcibly remount, call drive.mount(\"/content/drive\", force_remount=True).\n"
          ]
        }
      ],
      "source": [
        "#Autorizando acesso ao Drive\n",
        "from google.colab import drive\n",
        "drive.mount('/content/drive')"
      ]
    },
    {
      "cell_type": "markdown",
      "source": [
        "# **`Área de interesse`**\n",
        "---\n",
        "\n"
      ],
      "metadata": {
        "id": "NgeskgA_3pUf"
      }
    },
    {
      "cell_type": "code",
      "execution_count": null,
      "metadata": {
        "id": "3Qg477LgedLA"
      },
      "outputs": [],
      "source": [
        "roi=gpd.read_file('/content/drive/MyDrive/TCC_Shapefiles/TI_ATIKUM.shp')\n",
        "roi=roi.to_json()\n",
        "roi=json.loads(roi)\n",
        "ATIKUM=ee.FeatureCollection(roi)"
      ]
    },
    {
      "cell_type": "markdown",
      "source": [
        "# **`Análise MODIS`**\n",
        "---\n"
      ],
      "metadata": {
        "id": "OyKwpD4bj-Iy"
      }
    },
    {
      "cell_type": "code",
      "execution_count": null,
      "metadata": {
        "id": "W_iYIAY1xRP-"
      },
      "outputs": [],
      "source": [
        "MOD09GA = ee.ImageCollection('MODIS/006/MOD09GA') \\\n",
        "          .filterDate('2020-10-01','2021-10-30') \\\n",
        "          .preprocess()"
      ]
    },
    {
      "cell_type": "code",
      "execution_count": null,
      "metadata": {
        "id": "Sr9Hbs8dxSbY"
      },
      "outputs": [],
      "source": [
        "MOD09GA = MOD09GA.spectralIndices('NDVI')"
      ]
    },
    {
      "cell_type": "code",
      "execution_count": null,
      "metadata": {
        "id": "4tnqbqofxYSF"
      },
      "outputs": [],
      "source": [
        "ndvi_viz = {'min':0, 'max':1, 'palette': cm.palettes.RdYlGn, 'bands':'NDVI'}"
      ]
    },
    {
      "cell_type": "code",
      "source": [
        "Map = geemap.Map(location=[-21.31, -46.7617], zoom=4)\n",
        "Map.addLayer(PIMENTEIRA, {'opacity': 0.75}, 'UCE - Parque Estadual da Mata Pimenteira')\n",
        "Map.addLayer(MOD09GA.median().clip(PIMENTEIRA), ndvi_viz, 'NDVI')\n",
        "Map.add_colorbar(ndvi_viz, label='NDVI', orientation='vertical')\n",
        "Map"
      ],
      "metadata": {
        "id": "48lORLZJ7A4U"
      },
      "execution_count": null,
      "outputs": []
    },
    {
      "cell_type": "markdown",
      "source": [
        "# **`Análise LANDSAT 8`**\n",
        "---"
      ],
      "metadata": {
        "id": "mj4fws524mFv"
      }
    },
    {
      "cell_type": "markdown",
      "source": [
        "## **`Análise LANDSAT 8 - Xarray`**\n"
      ],
      "metadata": {
        "id": "o-XpvFg66lpq"
      }
    },
    {
      "cell_type": "code",
      "source": [
        "import proplot as plot\n",
        "import wxee\n",
        "import xarray as xr"
      ],
      "metadata": {
        "id": "PEX8GWjN2UPn"
      },
      "execution_count": null,
      "outputs": []
    },
    {
      "cell_type": "code",
      "source": [
        "roi=gpd.read_file('/content/drive/MyDrive/TCC_Shapefiles/TI_ATIKUM.shp')\n",
        "roi=roi.to_json()\n",
        "roi=json.loads(roi)\n",
        "ATIKUM=ee.FeatureCollection(roi)"
      ],
      "metadata": {
        "id": "wkqS6SjpKOd-"
      },
      "execution_count": null,
      "outputs": []
    },
    {
      "cell_type": "code",
      "source": [
        "landsat8 = ee.ImageCollection(\"LANDSAT/LC08/C01/T1_SR\") \\\n",
        "             .filterBounds(ATIKUM) \\\n",
        "             .scale() \\\n",
        "             .preprocess()\\\n",
        "             .maskClouds() \\\n",
        "             .spectralIndices()"
      ],
      "metadata": {
        "id": "V_VgxY3jaXXa"
      },
      "execution_count": null,
      "outputs": []
    },
    {
      "cell_type": "code",
      "source": [
        "dset = landsat8.filterDate('2021-10-15', '2021-11-15').first().select('NDVI').clip(ATIKUM).wx.to_xarray(region=ATIKUM.geometry(), scale=30)"
      ],
      "metadata": {
        "id": "vb1Qflyk2e0H"
      },
      "execution_count": null,
      "outputs": []
    },
    {
      "cell_type": "code",
      "source": [
        "dset"
      ],
      "metadata": {
        "id": "kZnvtXEt2r8n"
      },
      "execution_count": null,
      "outputs": []
    },
    {
      "cell_type": "code",
      "source": [
        "fig, ax = plot.subplots(figsize=(10,7), tight=True)\n",
        "\n",
        "# mapa de contornos preenchidos\n",
        "map1 = ax.contourf(dset['x'], dset['y'], dset['NDVI'].squeeze(),\n",
        "                   cmap='RdYlGn', levels=plot.arange(-1, 1, 0.05)) \n",
        "\n",
        "# barra de cores\n",
        "fig.colorbar(map1, loc='r', label='NDVI', labelsize=13)\n",
        "\n",
        "# opções de formatação\n",
        "ax.format(xlabel='Longitude', ylabel='Latitude', title='Território Indígena Atikum - NDVI',\n",
        "          xformatter='deglon', yformatter='deglat',\n",
        "          xtickminor=True, ytickminor=True, \n",
        "          small='10px', large='25px')\n",
        "\n",
        "# salvar a figura\n",
        "#fig.save('guaxupe_ndvi.jpeg', dpi=300)\n",
        "\n",
        "plot.show()"
      ],
      "metadata": {
        "id": "NwvRBeyy21p_"
      },
      "execution_count": null,
      "outputs": []
    },
    {
      "cell_type": "markdown",
      "source": [
        "## **`Análise LANDSAT 8 - Geemap`**"
      ],
      "metadata": {
        "id": "tgHMXII4qfY4"
      }
    },
    {
      "cell_type": "code",
      "source": [
        "landsat8 = ee.ImageCollection(\"LANDSAT/LC08/C01/T1_SR\") \\\n",
        "             .filterBounds(ATIKUM) \\\n",
        "             .scale() \\\n",
        "             .preprocess() \\\n",
        "             .maskClouds() \\"
      ],
      "metadata": {
        "id": "PwbHX8yvqizb"
      },
      "execution_count": null,
      "outputs": []
    },
    {
      "cell_type": "code",
      "source": [
        "#Pré Fogo\n",
        "prefire_start = '2020-12-20';   \n",
        "prefire_end = '2021-01-18';\n",
        "#Pós Fogo\n",
        "postfire_start = '2021-02-01';\n",
        "postfire_end = '2021-04-28';"
      ],
      "metadata": {
        "id": "elsUKeKyq1iS"
      },
      "execution_count": null,
      "outputs": []
    },
    {
      "cell_type": "code",
      "source": [
        "landsat8prefire= landsat8.filterDate(prefire_start,prefire_end)"
      ],
      "metadata": {
        "id": "nXidp_LZraxj"
      },
      "execution_count": null,
      "outputs": []
    },
    {
      "cell_type": "code",
      "source": [
        "landsat8postfire= landsat8.filterDate(postfire_start,postfire_end)"
      ],
      "metadata": {
        "id": "2STqU-4luTmq"
      },
      "execution_count": null,
      "outputs": []
    },
    {
      "cell_type": "code",
      "source": [
        "pre_mos = landsat8prefire.mosaic().clip(ATIKUM)"
      ],
      "metadata": {
        "id": "EK6BCTTXtU5z"
      },
      "execution_count": null,
      "outputs": []
    },
    {
      "cell_type": "code",
      "source": [
        "post_mos = landsat8postfire.mosaic().clip(ATIKUM)"
      ],
      "metadata": {
        "id": "I5t2A2FNyYIi"
      },
      "execution_count": null,
      "outputs": []
    },
    {
      "cell_type": "code",
      "source": [
        "PRE_NBR=pre_mos.normalizedDifference(['B5', 'B7']);"
      ],
      "metadata": {
        "id": "iX0ZME8uyuMZ"
      },
      "execution_count": null,
      "outputs": []
    },
    {
      "cell_type": "code",
      "source": [
        "POST_NBR=post_mos.normalizedDifference(['B5', 'B7']);"
      ],
      "metadata": {
        "id": "Utn8ZzZOy03q"
      },
      "execution_count": null,
      "outputs": []
    },
    {
      "cell_type": "code",
      "source": [
        "dNBR= (PRE_NBR.subtract(POST_NBR)).multiply(1000);\n",
        "dnbr_viz = {'min':0, 'max':1, 'palette': cm.palettes.RdYlGn_r}"
      ],
      "metadata": {
        "id": "eydzwoaNzRur"
      },
      "execution_count": null,
      "outputs": []
    },
    {
      "cell_type": "code",
      "source": [
        "Map = geemap.Map(location=[-8.31, -38.7617], zoom=12)\n",
        "Map.addLayer(dNBR,dnbr_viz)\n",
        "Map"
      ],
      "metadata": {
        "colab": {
          "base_uri": "https://localhost:8080/",
          "referenced_widgets": [
            "dcbdf5218b26437aa4dd061fca731940",
            "264ab5ace054404596e36971d8b3fbbd",
            "51783374abfc433794090d6ef25594ba",
            "9e45c11847534e42976f42ea5ba2b38a",
            "ab4caf7e7378433198f154b26f6c2ebe",
            "5bd23e90e86b479dbbd23b2bdf004bb9",
            "0a69ba16f15642748bf006b781b95e86",
            "edf4b4196a4146098ec9d787796e714f",
            "0653a11c486f42dbbd70d6ae4d9de77b",
            "2a217c8e264d420b83d5a03006950bb9",
            "f612f499cea34bd489ebba7d4a5e03e8",
            "bf6c148e17dd40489f85a3c49342fefe",
            "8ff876be3c544029b7611738c925c067",
            "fa9602dfe46d4ca2bec4df0908348886",
            "f2e1143912904cf985d86b182fb362a1",
            "d56f4ed59fc4408083249a2e5618da4b",
            "02f276fa3202419dbffff00aadcaa0fe",
            "960f57b9a61e45ffa07320efd12bd8e6",
            "5c1398fd402d443e957cf08129156d95",
            "59fe300a60bc42d885b39899ee4bf8b8",
            "5b5e5c99c0814cf1bae1f472b9eae242",
            "9c5c49a9159144039c16dc270d07457e",
            "391b156e0cd64c8db68d92792a3146f0",
            "8c1e540c4bb04a5595ff71290172d238",
            "70c9e0a521ab442c93a7f19bef2c4a2b",
            "16a7d23ec65a44d894f192152287aea5"
          ],
          "height": 621
        },
        "id": "83306Aciy7Vy",
        "outputId": "7775410f-d9af-48ea-d8ba-246e076d53d9"
      },
      "execution_count": null,
      "outputs": [
        {
          "output_type": "display_data",
          "data": {
            "text/plain": [
              "Map(center=[-8.31, -38.7617], controls=(WidgetControl(options=['position', 'transparent_bg'], widget=HBox(chil…"
            ],
            "application/vnd.jupyter.widget-view+json": {
              "version_major": 2,
              "version_minor": 0,
              "model_id": "dcbdf5218b26437aa4dd061fca731940"
            }
          },
          "metadata": {
            "application/vnd.jupyter.widget-view+json": {
              "colab": {
                "custom_widget_manager": {
                  "url": "https://ssl.gstatic.com/colaboratory-static/widgets/colab-cdn-widget-manager/d2e234f7cc04bf79/manager.min.js"
                }
              }
            }
          }
        }
      ]
    },
    {
      "cell_type": "markdown",
      "source": [
        "## **`Análise LANDSAT 8 - Estatísticas`**"
      ],
      "metadata": {
        "id": "t2rgT8DpAAYW"
      }
    },
    {
      "cell_type": "code",
      "source": [
        "landsat8 = ee.ImageCollection(\"LANDSAT/LC08/C01/T1_SR\") \\\n",
        "              .filterBounds(ATIKUM).scale().maskClouds().spectralIndices('EVI').spectralIndices('NDVI')"
      ],
      "metadata": {
        "id": "UkHEIg6xBsSh"
      },
      "execution_count": null,
      "outputs": []
    },
    {
      "cell_type": "code",
      "source": [
        "lista_indices = landsat8.first().bandNames().getInfo()"
      ],
      "metadata": {
        "id": "3uPbb-fVCHIi"
      },
      "execution_count": null,
      "outputs": []
    },
    {
      "cell_type": "code",
      "source": [
        "lista_indices"
      ],
      "metadata": {
        "id": "jlXHAEhkCIHh"
      },
      "execution_count": null,
      "outputs": []
    },
    {
      "cell_type": "code",
      "source": [
        "indices_series = landsat8.getTimeSeriesByRegion(geometry = ATIKUM,\n",
        "                                                bands = lista_indices,\n",
        "                                                reducer = ee.Reducer.mean(),\n",
        "                                                scale = 30)"
      ],
      "metadata": {
        "id": "21i3ZtR8CL9b"
      },
      "execution_count": null,
      "outputs": []
    },
    {
      "cell_type": "code",
      "source": [
        "indices_series = geemap.ee_to_pandas(indices_series)"
      ],
      "metadata": {
        "id": "uUSMY8jZCZo1"
      },
      "execution_count": null,
      "outputs": []
    },
    {
      "cell_type": "code",
      "source": [
        "indices_series.head()"
      ],
      "metadata": {
        "id": "oiZaVvgDCaEr",
        "colab": {
          "base_uri": "https://localhost:8080/",
          "height": 206
        },
        "outputId": "dddb547c-16cd-4a18-a361-8a811ed9ee7e"
      },
      "execution_count": null,
      "outputs": [
        {
          "output_type": "execute_result",
          "data": {
            "text/plain": [
              "  reducer                 date           B1           B2           B3  \\\n",
              "0    mean  2013-04-02T12:45:50     0.024400     0.033974     0.066708   \n",
              "1    mean  2013-04-21T12:43:36     0.020358     0.029784     0.059596   \n",
              "2    mean  2013-05-23T12:43:52 -9999.000000 -9999.000000 -9999.000000   \n",
              "3    mean  2013-06-08T12:43:51     0.028229     0.036324     0.067158   \n",
              "4    mean  2013-06-24T12:43:45     0.025981     0.034648     0.061513   \n",
              "\n",
              "            B4           B5           B6           B7          B10  \\\n",
              "0     0.084074     0.244055     0.262827     0.170794   303.850114   \n",
              "1     0.063046     0.227217     0.201299     0.124778   296.306500   \n",
              "2 -9999.000000 -9999.000000 -9999.000000 -9999.000000 -9999.000000   \n",
              "3     0.071252     0.273508     0.244151     0.147311   296.162090   \n",
              "4     0.077114     0.228407     0.251144     0.168083   301.236172   \n",
              "\n",
              "           B11   sr_aerosol     pixel_qa  radsat_qa          EVI         NDVI  \n",
              "0   299.824956    93.314493   322.006124        0.0     0.273714     0.509350  \n",
              "1   292.850763   178.270144   322.479486        0.0     0.298821     0.585394  \n",
              "2 -9999.000000 -9999.000000 -9999.000000    -9999.0 -9999.000000 -9999.000000  \n",
              "3   292.880312   174.827006   322.438338        0.0     0.356766     0.631248  \n",
              "4   299.238089    92.986126   322.006062        0.0     0.269910     0.520732  "
            ],
            "text/html": [
              "\n",
              "  <div id=\"df-cabf5294-7dde-4215-864e-38f641fbb2e9\">\n",
              "    <div class=\"colab-df-container\">\n",
              "      <div>\n",
              "<style scoped>\n",
              "    .dataframe tbody tr th:only-of-type {\n",
              "        vertical-align: middle;\n",
              "    }\n",
              "\n",
              "    .dataframe tbody tr th {\n",
              "        vertical-align: top;\n",
              "    }\n",
              "\n",
              "    .dataframe thead th {\n",
              "        text-align: right;\n",
              "    }\n",
              "</style>\n",
              "<table border=\"1\" class=\"dataframe\">\n",
              "  <thead>\n",
              "    <tr style=\"text-align: right;\">\n",
              "      <th></th>\n",
              "      <th>reducer</th>\n",
              "      <th>date</th>\n",
              "      <th>B1</th>\n",
              "      <th>B2</th>\n",
              "      <th>B3</th>\n",
              "      <th>B4</th>\n",
              "      <th>B5</th>\n",
              "      <th>B6</th>\n",
              "      <th>B7</th>\n",
              "      <th>B10</th>\n",
              "      <th>B11</th>\n",
              "      <th>sr_aerosol</th>\n",
              "      <th>pixel_qa</th>\n",
              "      <th>radsat_qa</th>\n",
              "      <th>EVI</th>\n",
              "      <th>NDVI</th>\n",
              "    </tr>\n",
              "  </thead>\n",
              "  <tbody>\n",
              "    <tr>\n",
              "      <th>0</th>\n",
              "      <td>mean</td>\n",
              "      <td>2013-04-02T12:45:50</td>\n",
              "      <td>0.024400</td>\n",
              "      <td>0.033974</td>\n",
              "      <td>0.066708</td>\n",
              "      <td>0.084074</td>\n",
              "      <td>0.244055</td>\n",
              "      <td>0.262827</td>\n",
              "      <td>0.170794</td>\n",
              "      <td>303.850114</td>\n",
              "      <td>299.824956</td>\n",
              "      <td>93.314493</td>\n",
              "      <td>322.006124</td>\n",
              "      <td>0.0</td>\n",
              "      <td>0.273714</td>\n",
              "      <td>0.509350</td>\n",
              "    </tr>\n",
              "    <tr>\n",
              "      <th>1</th>\n",
              "      <td>mean</td>\n",
              "      <td>2013-04-21T12:43:36</td>\n",
              "      <td>0.020358</td>\n",
              "      <td>0.029784</td>\n",
              "      <td>0.059596</td>\n",
              "      <td>0.063046</td>\n",
              "      <td>0.227217</td>\n",
              "      <td>0.201299</td>\n",
              "      <td>0.124778</td>\n",
              "      <td>296.306500</td>\n",
              "      <td>292.850763</td>\n",
              "      <td>178.270144</td>\n",
              "      <td>322.479486</td>\n",
              "      <td>0.0</td>\n",
              "      <td>0.298821</td>\n",
              "      <td>0.585394</td>\n",
              "    </tr>\n",
              "    <tr>\n",
              "      <th>2</th>\n",
              "      <td>mean</td>\n",
              "      <td>2013-05-23T12:43:52</td>\n",
              "      <td>-9999.000000</td>\n",
              "      <td>-9999.000000</td>\n",
              "      <td>-9999.000000</td>\n",
              "      <td>-9999.000000</td>\n",
              "      <td>-9999.000000</td>\n",
              "      <td>-9999.000000</td>\n",
              "      <td>-9999.000000</td>\n",
              "      <td>-9999.000000</td>\n",
              "      <td>-9999.000000</td>\n",
              "      <td>-9999.000000</td>\n",
              "      <td>-9999.000000</td>\n",
              "      <td>-9999.0</td>\n",
              "      <td>-9999.000000</td>\n",
              "      <td>-9999.000000</td>\n",
              "    </tr>\n",
              "    <tr>\n",
              "      <th>3</th>\n",
              "      <td>mean</td>\n",
              "      <td>2013-06-08T12:43:51</td>\n",
              "      <td>0.028229</td>\n",
              "      <td>0.036324</td>\n",
              "      <td>0.067158</td>\n",
              "      <td>0.071252</td>\n",
              "      <td>0.273508</td>\n",
              "      <td>0.244151</td>\n",
              "      <td>0.147311</td>\n",
              "      <td>296.162090</td>\n",
              "      <td>292.880312</td>\n",
              "      <td>174.827006</td>\n",
              "      <td>322.438338</td>\n",
              "      <td>0.0</td>\n",
              "      <td>0.356766</td>\n",
              "      <td>0.631248</td>\n",
              "    </tr>\n",
              "    <tr>\n",
              "      <th>4</th>\n",
              "      <td>mean</td>\n",
              "      <td>2013-06-24T12:43:45</td>\n",
              "      <td>0.025981</td>\n",
              "      <td>0.034648</td>\n",
              "      <td>0.061513</td>\n",
              "      <td>0.077114</td>\n",
              "      <td>0.228407</td>\n",
              "      <td>0.251144</td>\n",
              "      <td>0.168083</td>\n",
              "      <td>301.236172</td>\n",
              "      <td>299.238089</td>\n",
              "      <td>92.986126</td>\n",
              "      <td>322.006062</td>\n",
              "      <td>0.0</td>\n",
              "      <td>0.269910</td>\n",
              "      <td>0.520732</td>\n",
              "    </tr>\n",
              "  </tbody>\n",
              "</table>\n",
              "</div>\n",
              "      <button class=\"colab-df-convert\" onclick=\"convertToInteractive('df-cabf5294-7dde-4215-864e-38f641fbb2e9')\"\n",
              "              title=\"Convert this dataframe to an interactive table.\"\n",
              "              style=\"display:none;\">\n",
              "        \n",
              "  <svg xmlns=\"http://www.w3.org/2000/svg\" height=\"24px\"viewBox=\"0 0 24 24\"\n",
              "       width=\"24px\">\n",
              "    <path d=\"M0 0h24v24H0V0z\" fill=\"none\"/>\n",
              "    <path d=\"M18.56 5.44l.94 2.06.94-2.06 2.06-.94-2.06-.94-.94-2.06-.94 2.06-2.06.94zm-11 1L8.5 8.5l.94-2.06 2.06-.94-2.06-.94L8.5 2.5l-.94 2.06-2.06.94zm10 10l.94 2.06.94-2.06 2.06-.94-2.06-.94-.94-2.06-.94 2.06-2.06.94z\"/><path d=\"M17.41 7.96l-1.37-1.37c-.4-.4-.92-.59-1.43-.59-.52 0-1.04.2-1.43.59L10.3 9.45l-7.72 7.72c-.78.78-.78 2.05 0 2.83L4 21.41c.39.39.9.59 1.41.59.51 0 1.02-.2 1.41-.59l7.78-7.78 2.81-2.81c.8-.78.8-2.07 0-2.86zM5.41 20L4 18.59l7.72-7.72 1.47 1.35L5.41 20z\"/>\n",
              "  </svg>\n",
              "      </button>\n",
              "      \n",
              "  <style>\n",
              "    .colab-df-container {\n",
              "      display:flex;\n",
              "      flex-wrap:wrap;\n",
              "      gap: 12px;\n",
              "    }\n",
              "\n",
              "    .colab-df-convert {\n",
              "      background-color: #E8F0FE;\n",
              "      border: none;\n",
              "      border-radius: 50%;\n",
              "      cursor: pointer;\n",
              "      display: none;\n",
              "      fill: #1967D2;\n",
              "      height: 32px;\n",
              "      padding: 0 0 0 0;\n",
              "      width: 32px;\n",
              "    }\n",
              "\n",
              "    .colab-df-convert:hover {\n",
              "      background-color: #E2EBFA;\n",
              "      box-shadow: 0px 1px 2px rgba(60, 64, 67, 0.3), 0px 1px 3px 1px rgba(60, 64, 67, 0.15);\n",
              "      fill: #174EA6;\n",
              "    }\n",
              "\n",
              "    [theme=dark] .colab-df-convert {\n",
              "      background-color: #3B4455;\n",
              "      fill: #D2E3FC;\n",
              "    }\n",
              "\n",
              "    [theme=dark] .colab-df-convert:hover {\n",
              "      background-color: #434B5C;\n",
              "      box-shadow: 0px 1px 3px 1px rgba(0, 0, 0, 0.15);\n",
              "      filter: drop-shadow(0px 1px 2px rgba(0, 0, 0, 0.3));\n",
              "      fill: #FFFFFF;\n",
              "    }\n",
              "  </style>\n",
              "\n",
              "      <script>\n",
              "        const buttonEl =\n",
              "          document.querySelector('#df-cabf5294-7dde-4215-864e-38f641fbb2e9 button.colab-df-convert');\n",
              "        buttonEl.style.display =\n",
              "          google.colab.kernel.accessAllowed ? 'block' : 'none';\n",
              "\n",
              "        async function convertToInteractive(key) {\n",
              "          const element = document.querySelector('#df-cabf5294-7dde-4215-864e-38f641fbb2e9');\n",
              "          const dataTable =\n",
              "            await google.colab.kernel.invokeFunction('convertToInteractive',\n",
              "                                                     [key], {});\n",
              "          if (!dataTable) return;\n",
              "\n",
              "          const docLinkHtml = 'Like what you see? Visit the ' +\n",
              "            '<a target=\"_blank\" href=https://colab.research.google.com/notebooks/data_table.ipynb>data table notebook</a>'\n",
              "            + ' to learn more about interactive tables.';\n",
              "          element.innerHTML = '';\n",
              "          dataTable['output_type'] = 'display_data';\n",
              "          await google.colab.output.renderOutput(dataTable, element);\n",
              "          const docLink = document.createElement('div');\n",
              "          docLink.innerHTML = docLinkHtml;\n",
              "          element.appendChild(docLink);\n",
              "        }\n",
              "      </script>\n",
              "    </div>\n",
              "  </div>\n",
              "  "
            ]
          },
          "metadata": {},
          "execution_count": 15
        }
      ]
    },
    {
      "cell_type": "code",
      "source": [
        "indices_series[indices_series == -9999.] = np.nan\n",
        "indices_series = indices_series.dropna()"
      ],
      "metadata": {
        "id": "FLiH2FTcCba_"
      },
      "execution_count": null,
      "outputs": []
    },
    {
      "cell_type": "code",
      "source": [
        "indices_series.head()"
      ],
      "metadata": {
        "id": "9UpNcyKdDJYo",
        "colab": {
          "base_uri": "https://localhost:8080/",
          "height": 206
        },
        "outputId": "97355d38-a34a-4149-eb60-4dd07f791bd8"
      },
      "execution_count": null,
      "outputs": [
        {
          "output_type": "execute_result",
          "data": {
            "text/plain": [
              "  reducer                 date        B1        B2        B3        B4  \\\n",
              "0    mean  2013-04-02T12:45:50  0.024400  0.033974  0.066708  0.084074   \n",
              "1    mean  2013-04-21T12:43:36  0.020358  0.029784  0.059596  0.063046   \n",
              "3    mean  2013-06-08T12:43:51  0.028229  0.036324  0.067158  0.071252   \n",
              "4    mean  2013-06-24T12:43:45  0.025981  0.034648  0.061513  0.077114   \n",
              "5    mean  2013-07-10T12:43:49  0.046096  0.063135  0.117056  0.144529   \n",
              "\n",
              "         B5        B6        B7         B10         B11  sr_aerosol  \\\n",
              "0  0.244055  0.262827  0.170794  303.850114  299.824956   93.314493   \n",
              "1  0.227217  0.201299  0.124778  296.306500  292.850763  178.270144   \n",
              "3  0.273508  0.244151  0.147311  296.162090  292.880312  174.827006   \n",
              "4  0.228407  0.251144  0.168083  301.236172  299.238089   92.986126   \n",
              "5  0.304836  0.346227  0.230760  292.019609  288.947922  221.474659   \n",
              "\n",
              "     pixel_qa  radsat_qa       EVI      NDVI  \n",
              "0  322.006124        0.0  0.273714  0.509350  \n",
              "1  322.479486        0.0  0.298821  0.585394  \n",
              "3  322.438338        0.0  0.356766  0.631248  \n",
              "4  322.006062        0.0  0.269910  0.520732  \n",
              "5  325.184113        0.0  0.238315  0.370854  "
            ],
            "text/html": [
              "\n",
              "  <div id=\"df-b9e81d1b-6be5-47d1-97dd-1d8d98931526\">\n",
              "    <div class=\"colab-df-container\">\n",
              "      <div>\n",
              "<style scoped>\n",
              "    .dataframe tbody tr th:only-of-type {\n",
              "        vertical-align: middle;\n",
              "    }\n",
              "\n",
              "    .dataframe tbody tr th {\n",
              "        vertical-align: top;\n",
              "    }\n",
              "\n",
              "    .dataframe thead th {\n",
              "        text-align: right;\n",
              "    }\n",
              "</style>\n",
              "<table border=\"1\" class=\"dataframe\">\n",
              "  <thead>\n",
              "    <tr style=\"text-align: right;\">\n",
              "      <th></th>\n",
              "      <th>reducer</th>\n",
              "      <th>date</th>\n",
              "      <th>B1</th>\n",
              "      <th>B2</th>\n",
              "      <th>B3</th>\n",
              "      <th>B4</th>\n",
              "      <th>B5</th>\n",
              "      <th>B6</th>\n",
              "      <th>B7</th>\n",
              "      <th>B10</th>\n",
              "      <th>B11</th>\n",
              "      <th>sr_aerosol</th>\n",
              "      <th>pixel_qa</th>\n",
              "      <th>radsat_qa</th>\n",
              "      <th>EVI</th>\n",
              "      <th>NDVI</th>\n",
              "    </tr>\n",
              "  </thead>\n",
              "  <tbody>\n",
              "    <tr>\n",
              "      <th>0</th>\n",
              "      <td>mean</td>\n",
              "      <td>2013-04-02T12:45:50</td>\n",
              "      <td>0.024400</td>\n",
              "      <td>0.033974</td>\n",
              "      <td>0.066708</td>\n",
              "      <td>0.084074</td>\n",
              "      <td>0.244055</td>\n",
              "      <td>0.262827</td>\n",
              "      <td>0.170794</td>\n",
              "      <td>303.850114</td>\n",
              "      <td>299.824956</td>\n",
              "      <td>93.314493</td>\n",
              "      <td>322.006124</td>\n",
              "      <td>0.0</td>\n",
              "      <td>0.273714</td>\n",
              "      <td>0.509350</td>\n",
              "    </tr>\n",
              "    <tr>\n",
              "      <th>1</th>\n",
              "      <td>mean</td>\n",
              "      <td>2013-04-21T12:43:36</td>\n",
              "      <td>0.020358</td>\n",
              "      <td>0.029784</td>\n",
              "      <td>0.059596</td>\n",
              "      <td>0.063046</td>\n",
              "      <td>0.227217</td>\n",
              "      <td>0.201299</td>\n",
              "      <td>0.124778</td>\n",
              "      <td>296.306500</td>\n",
              "      <td>292.850763</td>\n",
              "      <td>178.270144</td>\n",
              "      <td>322.479486</td>\n",
              "      <td>0.0</td>\n",
              "      <td>0.298821</td>\n",
              "      <td>0.585394</td>\n",
              "    </tr>\n",
              "    <tr>\n",
              "      <th>3</th>\n",
              "      <td>mean</td>\n",
              "      <td>2013-06-08T12:43:51</td>\n",
              "      <td>0.028229</td>\n",
              "      <td>0.036324</td>\n",
              "      <td>0.067158</td>\n",
              "      <td>0.071252</td>\n",
              "      <td>0.273508</td>\n",
              "      <td>0.244151</td>\n",
              "      <td>0.147311</td>\n",
              "      <td>296.162090</td>\n",
              "      <td>292.880312</td>\n",
              "      <td>174.827006</td>\n",
              "      <td>322.438338</td>\n",
              "      <td>0.0</td>\n",
              "      <td>0.356766</td>\n",
              "      <td>0.631248</td>\n",
              "    </tr>\n",
              "    <tr>\n",
              "      <th>4</th>\n",
              "      <td>mean</td>\n",
              "      <td>2013-06-24T12:43:45</td>\n",
              "      <td>0.025981</td>\n",
              "      <td>0.034648</td>\n",
              "      <td>0.061513</td>\n",
              "      <td>0.077114</td>\n",
              "      <td>0.228407</td>\n",
              "      <td>0.251144</td>\n",
              "      <td>0.168083</td>\n",
              "      <td>301.236172</td>\n",
              "      <td>299.238089</td>\n",
              "      <td>92.986126</td>\n",
              "      <td>322.006062</td>\n",
              "      <td>0.0</td>\n",
              "      <td>0.269910</td>\n",
              "      <td>0.520732</td>\n",
              "    </tr>\n",
              "    <tr>\n",
              "      <th>5</th>\n",
              "      <td>mean</td>\n",
              "      <td>2013-07-10T12:43:49</td>\n",
              "      <td>0.046096</td>\n",
              "      <td>0.063135</td>\n",
              "      <td>0.117056</td>\n",
              "      <td>0.144529</td>\n",
              "      <td>0.304836</td>\n",
              "      <td>0.346227</td>\n",
              "      <td>0.230760</td>\n",
              "      <td>292.019609</td>\n",
              "      <td>288.947922</td>\n",
              "      <td>221.474659</td>\n",
              "      <td>325.184113</td>\n",
              "      <td>0.0</td>\n",
              "      <td>0.238315</td>\n",
              "      <td>0.370854</td>\n",
              "    </tr>\n",
              "  </tbody>\n",
              "</table>\n",
              "</div>\n",
              "      <button class=\"colab-df-convert\" onclick=\"convertToInteractive('df-b9e81d1b-6be5-47d1-97dd-1d8d98931526')\"\n",
              "              title=\"Convert this dataframe to an interactive table.\"\n",
              "              style=\"display:none;\">\n",
              "        \n",
              "  <svg xmlns=\"http://www.w3.org/2000/svg\" height=\"24px\"viewBox=\"0 0 24 24\"\n",
              "       width=\"24px\">\n",
              "    <path d=\"M0 0h24v24H0V0z\" fill=\"none\"/>\n",
              "    <path d=\"M18.56 5.44l.94 2.06.94-2.06 2.06-.94-2.06-.94-.94-2.06-.94 2.06-2.06.94zm-11 1L8.5 8.5l.94-2.06 2.06-.94-2.06-.94L8.5 2.5l-.94 2.06-2.06.94zm10 10l.94 2.06.94-2.06 2.06-.94-2.06-.94-.94-2.06-.94 2.06-2.06.94z\"/><path d=\"M17.41 7.96l-1.37-1.37c-.4-.4-.92-.59-1.43-.59-.52 0-1.04.2-1.43.59L10.3 9.45l-7.72 7.72c-.78.78-.78 2.05 0 2.83L4 21.41c.39.39.9.59 1.41.59.51 0 1.02-.2 1.41-.59l7.78-7.78 2.81-2.81c.8-.78.8-2.07 0-2.86zM5.41 20L4 18.59l7.72-7.72 1.47 1.35L5.41 20z\"/>\n",
              "  </svg>\n",
              "      </button>\n",
              "      \n",
              "  <style>\n",
              "    .colab-df-container {\n",
              "      display:flex;\n",
              "      flex-wrap:wrap;\n",
              "      gap: 12px;\n",
              "    }\n",
              "\n",
              "    .colab-df-convert {\n",
              "      background-color: #E8F0FE;\n",
              "      border: none;\n",
              "      border-radius: 50%;\n",
              "      cursor: pointer;\n",
              "      display: none;\n",
              "      fill: #1967D2;\n",
              "      height: 32px;\n",
              "      padding: 0 0 0 0;\n",
              "      width: 32px;\n",
              "    }\n",
              "\n",
              "    .colab-df-convert:hover {\n",
              "      background-color: #E2EBFA;\n",
              "      box-shadow: 0px 1px 2px rgba(60, 64, 67, 0.3), 0px 1px 3px 1px rgba(60, 64, 67, 0.15);\n",
              "      fill: #174EA6;\n",
              "    }\n",
              "\n",
              "    [theme=dark] .colab-df-convert {\n",
              "      background-color: #3B4455;\n",
              "      fill: #D2E3FC;\n",
              "    }\n",
              "\n",
              "    [theme=dark] .colab-df-convert:hover {\n",
              "      background-color: #434B5C;\n",
              "      box-shadow: 0px 1px 3px 1px rgba(0, 0, 0, 0.15);\n",
              "      filter: drop-shadow(0px 1px 2px rgba(0, 0, 0, 0.3));\n",
              "      fill: #FFFFFF;\n",
              "    }\n",
              "  </style>\n",
              "\n",
              "      <script>\n",
              "        const buttonEl =\n",
              "          document.querySelector('#df-b9e81d1b-6be5-47d1-97dd-1d8d98931526 button.colab-df-convert');\n",
              "        buttonEl.style.display =\n",
              "          google.colab.kernel.accessAllowed ? 'block' : 'none';\n",
              "\n",
              "        async function convertToInteractive(key) {\n",
              "          const element = document.querySelector('#df-b9e81d1b-6be5-47d1-97dd-1d8d98931526');\n",
              "          const dataTable =\n",
              "            await google.colab.kernel.invokeFunction('convertToInteractive',\n",
              "                                                     [key], {});\n",
              "          if (!dataTable) return;\n",
              "\n",
              "          const docLinkHtml = 'Like what you see? Visit the ' +\n",
              "            '<a target=\"_blank\" href=https://colab.research.google.com/notebooks/data_table.ipynb>data table notebook</a>'\n",
              "            + ' to learn more about interactive tables.';\n",
              "          element.innerHTML = '';\n",
              "          dataTable['output_type'] = 'display_data';\n",
              "          await google.colab.output.renderOutput(dataTable, element);\n",
              "          const docLink = document.createElement('div');\n",
              "          docLink.innerHTML = docLinkHtml;\n",
              "          element.appendChild(docLink);\n",
              "        }\n",
              "      </script>\n",
              "    </div>\n",
              "  </div>\n",
              "  "
            ]
          },
          "metadata": {},
          "execution_count": 17
        }
      ]
    },
    {
      "cell_type": "code",
      "source": [
        "indices_series['date'] = pd.to_datetime(indices_series['date'],\n",
        "                                        infer_datetime_format = 'Y%-m%-d%',)"
      ],
      "metadata": {
        "id": "m3qRMjzXDKEi"
      },
      "execution_count": null,
      "outputs": []
    },
    {
      "cell_type": "code",
      "source": [
        "indices_series = indices_series.set_index(indices_series['date'])"
      ],
      "metadata": {
        "id": "VMgimkDFDX5C"
      },
      "execution_count": null,
      "outputs": []
    },
    {
      "cell_type": "code",
      "source": [
        "indices_series.head()"
      ],
      "metadata": {
        "id": "BVa4J9nUDaXa",
        "colab": {
          "base_uri": "https://localhost:8080/",
          "height": 237
        },
        "outputId": "8a7f8edc-18b2-4917-b65a-3bf4ed42bfac"
      },
      "execution_count": null,
      "outputs": [
        {
          "output_type": "execute_result",
          "data": {
            "text/plain": [
              "                    reducer                date        B1        B2        B3  \\\n",
              "date                                                                            \n",
              "2013-04-02 12:45:50    mean 2013-04-02 12:45:50  0.024400  0.033974  0.066708   \n",
              "2013-04-21 12:43:36    mean 2013-04-21 12:43:36  0.020358  0.029784  0.059596   \n",
              "2013-06-08 12:43:51    mean 2013-06-08 12:43:51  0.028229  0.036324  0.067158   \n",
              "2013-06-24 12:43:45    mean 2013-06-24 12:43:45  0.025981  0.034648  0.061513   \n",
              "2013-07-10 12:43:49    mean 2013-07-10 12:43:49  0.046096  0.063135  0.117056   \n",
              "\n",
              "                           B4        B5        B6        B7         B10  \\\n",
              "date                                                                      \n",
              "2013-04-02 12:45:50  0.084074  0.244055  0.262827  0.170794  303.850114   \n",
              "2013-04-21 12:43:36  0.063046  0.227217  0.201299  0.124778  296.306500   \n",
              "2013-06-08 12:43:51  0.071252  0.273508  0.244151  0.147311  296.162090   \n",
              "2013-06-24 12:43:45  0.077114  0.228407  0.251144  0.168083  301.236172   \n",
              "2013-07-10 12:43:49  0.144529  0.304836  0.346227  0.230760  292.019609   \n",
              "\n",
              "                            B11  sr_aerosol    pixel_qa  radsat_qa       EVI  \\\n",
              "date                                                                           \n",
              "2013-04-02 12:45:50  299.824956   93.314493  322.006124        0.0  0.273714   \n",
              "2013-04-21 12:43:36  292.850763  178.270144  322.479486        0.0  0.298821   \n",
              "2013-06-08 12:43:51  292.880312  174.827006  322.438338        0.0  0.356766   \n",
              "2013-06-24 12:43:45  299.238089   92.986126  322.006062        0.0  0.269910   \n",
              "2013-07-10 12:43:49  288.947922  221.474659  325.184113        0.0  0.238315   \n",
              "\n",
              "                         NDVI  \n",
              "date                           \n",
              "2013-04-02 12:45:50  0.509350  \n",
              "2013-04-21 12:43:36  0.585394  \n",
              "2013-06-08 12:43:51  0.631248  \n",
              "2013-06-24 12:43:45  0.520732  \n",
              "2013-07-10 12:43:49  0.370854  "
            ],
            "text/html": [
              "\n",
              "  <div id=\"df-e512f035-5601-4959-b851-fb4b72e81b6f\">\n",
              "    <div class=\"colab-df-container\">\n",
              "      <div>\n",
              "<style scoped>\n",
              "    .dataframe tbody tr th:only-of-type {\n",
              "        vertical-align: middle;\n",
              "    }\n",
              "\n",
              "    .dataframe tbody tr th {\n",
              "        vertical-align: top;\n",
              "    }\n",
              "\n",
              "    .dataframe thead th {\n",
              "        text-align: right;\n",
              "    }\n",
              "</style>\n",
              "<table border=\"1\" class=\"dataframe\">\n",
              "  <thead>\n",
              "    <tr style=\"text-align: right;\">\n",
              "      <th></th>\n",
              "      <th>reducer</th>\n",
              "      <th>date</th>\n",
              "      <th>B1</th>\n",
              "      <th>B2</th>\n",
              "      <th>B3</th>\n",
              "      <th>B4</th>\n",
              "      <th>B5</th>\n",
              "      <th>B6</th>\n",
              "      <th>B7</th>\n",
              "      <th>B10</th>\n",
              "      <th>B11</th>\n",
              "      <th>sr_aerosol</th>\n",
              "      <th>pixel_qa</th>\n",
              "      <th>radsat_qa</th>\n",
              "      <th>EVI</th>\n",
              "      <th>NDVI</th>\n",
              "    </tr>\n",
              "    <tr>\n",
              "      <th>date</th>\n",
              "      <th></th>\n",
              "      <th></th>\n",
              "      <th></th>\n",
              "      <th></th>\n",
              "      <th></th>\n",
              "      <th></th>\n",
              "      <th></th>\n",
              "      <th></th>\n",
              "      <th></th>\n",
              "      <th></th>\n",
              "      <th></th>\n",
              "      <th></th>\n",
              "      <th></th>\n",
              "      <th></th>\n",
              "      <th></th>\n",
              "      <th></th>\n",
              "    </tr>\n",
              "  </thead>\n",
              "  <tbody>\n",
              "    <tr>\n",
              "      <th>2013-04-02 12:45:50</th>\n",
              "      <td>mean</td>\n",
              "      <td>2013-04-02 12:45:50</td>\n",
              "      <td>0.024400</td>\n",
              "      <td>0.033974</td>\n",
              "      <td>0.066708</td>\n",
              "      <td>0.084074</td>\n",
              "      <td>0.244055</td>\n",
              "      <td>0.262827</td>\n",
              "      <td>0.170794</td>\n",
              "      <td>303.850114</td>\n",
              "      <td>299.824956</td>\n",
              "      <td>93.314493</td>\n",
              "      <td>322.006124</td>\n",
              "      <td>0.0</td>\n",
              "      <td>0.273714</td>\n",
              "      <td>0.509350</td>\n",
              "    </tr>\n",
              "    <tr>\n",
              "      <th>2013-04-21 12:43:36</th>\n",
              "      <td>mean</td>\n",
              "      <td>2013-04-21 12:43:36</td>\n",
              "      <td>0.020358</td>\n",
              "      <td>0.029784</td>\n",
              "      <td>0.059596</td>\n",
              "      <td>0.063046</td>\n",
              "      <td>0.227217</td>\n",
              "      <td>0.201299</td>\n",
              "      <td>0.124778</td>\n",
              "      <td>296.306500</td>\n",
              "      <td>292.850763</td>\n",
              "      <td>178.270144</td>\n",
              "      <td>322.479486</td>\n",
              "      <td>0.0</td>\n",
              "      <td>0.298821</td>\n",
              "      <td>0.585394</td>\n",
              "    </tr>\n",
              "    <tr>\n",
              "      <th>2013-06-08 12:43:51</th>\n",
              "      <td>mean</td>\n",
              "      <td>2013-06-08 12:43:51</td>\n",
              "      <td>0.028229</td>\n",
              "      <td>0.036324</td>\n",
              "      <td>0.067158</td>\n",
              "      <td>0.071252</td>\n",
              "      <td>0.273508</td>\n",
              "      <td>0.244151</td>\n",
              "      <td>0.147311</td>\n",
              "      <td>296.162090</td>\n",
              "      <td>292.880312</td>\n",
              "      <td>174.827006</td>\n",
              "      <td>322.438338</td>\n",
              "      <td>0.0</td>\n",
              "      <td>0.356766</td>\n",
              "      <td>0.631248</td>\n",
              "    </tr>\n",
              "    <tr>\n",
              "      <th>2013-06-24 12:43:45</th>\n",
              "      <td>mean</td>\n",
              "      <td>2013-06-24 12:43:45</td>\n",
              "      <td>0.025981</td>\n",
              "      <td>0.034648</td>\n",
              "      <td>0.061513</td>\n",
              "      <td>0.077114</td>\n",
              "      <td>0.228407</td>\n",
              "      <td>0.251144</td>\n",
              "      <td>0.168083</td>\n",
              "      <td>301.236172</td>\n",
              "      <td>299.238089</td>\n",
              "      <td>92.986126</td>\n",
              "      <td>322.006062</td>\n",
              "      <td>0.0</td>\n",
              "      <td>0.269910</td>\n",
              "      <td>0.520732</td>\n",
              "    </tr>\n",
              "    <tr>\n",
              "      <th>2013-07-10 12:43:49</th>\n",
              "      <td>mean</td>\n",
              "      <td>2013-07-10 12:43:49</td>\n",
              "      <td>0.046096</td>\n",
              "      <td>0.063135</td>\n",
              "      <td>0.117056</td>\n",
              "      <td>0.144529</td>\n",
              "      <td>0.304836</td>\n",
              "      <td>0.346227</td>\n",
              "      <td>0.230760</td>\n",
              "      <td>292.019609</td>\n",
              "      <td>288.947922</td>\n",
              "      <td>221.474659</td>\n",
              "      <td>325.184113</td>\n",
              "      <td>0.0</td>\n",
              "      <td>0.238315</td>\n",
              "      <td>0.370854</td>\n",
              "    </tr>\n",
              "  </tbody>\n",
              "</table>\n",
              "</div>\n",
              "      <button class=\"colab-df-convert\" onclick=\"convertToInteractive('df-e512f035-5601-4959-b851-fb4b72e81b6f')\"\n",
              "              title=\"Convert this dataframe to an interactive table.\"\n",
              "              style=\"display:none;\">\n",
              "        \n",
              "  <svg xmlns=\"http://www.w3.org/2000/svg\" height=\"24px\"viewBox=\"0 0 24 24\"\n",
              "       width=\"24px\">\n",
              "    <path d=\"M0 0h24v24H0V0z\" fill=\"none\"/>\n",
              "    <path d=\"M18.56 5.44l.94 2.06.94-2.06 2.06-.94-2.06-.94-.94-2.06-.94 2.06-2.06.94zm-11 1L8.5 8.5l.94-2.06 2.06-.94-2.06-.94L8.5 2.5l-.94 2.06-2.06.94zm10 10l.94 2.06.94-2.06 2.06-.94-2.06-.94-.94-2.06-.94 2.06-2.06.94z\"/><path d=\"M17.41 7.96l-1.37-1.37c-.4-.4-.92-.59-1.43-.59-.52 0-1.04.2-1.43.59L10.3 9.45l-7.72 7.72c-.78.78-.78 2.05 0 2.83L4 21.41c.39.39.9.59 1.41.59.51 0 1.02-.2 1.41-.59l7.78-7.78 2.81-2.81c.8-.78.8-2.07 0-2.86zM5.41 20L4 18.59l7.72-7.72 1.47 1.35L5.41 20z\"/>\n",
              "  </svg>\n",
              "      </button>\n",
              "      \n",
              "  <style>\n",
              "    .colab-df-container {\n",
              "      display:flex;\n",
              "      flex-wrap:wrap;\n",
              "      gap: 12px;\n",
              "    }\n",
              "\n",
              "    .colab-df-convert {\n",
              "      background-color: #E8F0FE;\n",
              "      border: none;\n",
              "      border-radius: 50%;\n",
              "      cursor: pointer;\n",
              "      display: none;\n",
              "      fill: #1967D2;\n",
              "      height: 32px;\n",
              "      padding: 0 0 0 0;\n",
              "      width: 32px;\n",
              "    }\n",
              "\n",
              "    .colab-df-convert:hover {\n",
              "      background-color: #E2EBFA;\n",
              "      box-shadow: 0px 1px 2px rgba(60, 64, 67, 0.3), 0px 1px 3px 1px rgba(60, 64, 67, 0.15);\n",
              "      fill: #174EA6;\n",
              "    }\n",
              "\n",
              "    [theme=dark] .colab-df-convert {\n",
              "      background-color: #3B4455;\n",
              "      fill: #D2E3FC;\n",
              "    }\n",
              "\n",
              "    [theme=dark] .colab-df-convert:hover {\n",
              "      background-color: #434B5C;\n",
              "      box-shadow: 0px 1px 3px 1px rgba(0, 0, 0, 0.15);\n",
              "      filter: drop-shadow(0px 1px 2px rgba(0, 0, 0, 0.3));\n",
              "      fill: #FFFFFF;\n",
              "    }\n",
              "  </style>\n",
              "\n",
              "      <script>\n",
              "        const buttonEl =\n",
              "          document.querySelector('#df-e512f035-5601-4959-b851-fb4b72e81b6f button.colab-df-convert');\n",
              "        buttonEl.style.display =\n",
              "          google.colab.kernel.accessAllowed ? 'block' : 'none';\n",
              "\n",
              "        async function convertToInteractive(key) {\n",
              "          const element = document.querySelector('#df-e512f035-5601-4959-b851-fb4b72e81b6f');\n",
              "          const dataTable =\n",
              "            await google.colab.kernel.invokeFunction('convertToInteractive',\n",
              "                                                     [key], {});\n",
              "          if (!dataTable) return;\n",
              "\n",
              "          const docLinkHtml = 'Like what you see? Visit the ' +\n",
              "            '<a target=\"_blank\" href=https://colab.research.google.com/notebooks/data_table.ipynb>data table notebook</a>'\n",
              "            + ' to learn more about interactive tables.';\n",
              "          element.innerHTML = '';\n",
              "          dataTable['output_type'] = 'display_data';\n",
              "          await google.colab.output.renderOutput(dataTable, element);\n",
              "          const docLink = document.createElement('div');\n",
              "          docLink.innerHTML = docLinkHtml;\n",
              "          element.appendChild(docLink);\n",
              "        }\n",
              "      </script>\n",
              "    </div>\n",
              "  </div>\n",
              "  "
            ]
          },
          "metadata": {},
          "execution_count": 20
        }
      ]
    },
    {
      "cell_type": "code",
      "source": [
        "indices_mensais = indices_series.groupby(pd.Grouper(freq='1M')).mean()"
      ],
      "metadata": {
        "id": "U968KMMpDbdd"
      },
      "execution_count": null,
      "outputs": []
    },
    {
      "cell_type": "code",
      "source": [
        "indices_mensais"
      ],
      "metadata": {
        "id": "oImiPVq4faP-"
      },
      "execution_count": null,
      "outputs": []
    },
    {
      "cell_type": "code",
      "source": [
        "fig, ax = plot.subplots(figsize=(15, 10), tight=True)\n",
        "\n",
        "ax.plot(indices_mensais.index, indices_mensais['NDVI'],\n",
        "        color='green', marker='o', label='NDVI')\n",
        "\n",
        "ax.format(xlabel='Anos', ylabel='Valor',\n",
        "          title='NDVI - TI Atikum - Séries Mensais de 2013 a 2022',\n",
        "          xrotation=0, xtickminor=False, ytickminor=False,\n",
        "          small='15px', large='20px', grid=False)\n",
        "\n",
        "ax.legend(loc='bottom', frameon=False)\n",
        "\n",
        "plot.show()"
      ],
      "metadata": {
        "id": "3A7-ybQCbOlQ"
      },
      "execution_count": null,
      "outputs": []
    },
    {
      "cell_type": "code",
      "source": [
        "indices_mensais_interp = indices_mensais.interpolate(method='polynomial', order=2)"
      ],
      "metadata": {
        "id": "dgUJs30Zbvbt"
      },
      "execution_count": null,
      "outputs": []
    },
    {
      "cell_type": "code",
      "source": [
        "indices_mensais_interp"
      ],
      "metadata": {
        "colab": {
          "base_uri": "https://localhost:8080/",
          "height": 678
        },
        "id": "UUw20uB1f4PG",
        "outputId": "ddc0cb05-eb5b-4316-a2ec-00f3172e4cab"
      },
      "execution_count": null,
      "outputs": [
        {
          "output_type": "execute_result",
          "data": {
            "text/plain": [
              "                  B1        B2        B3        B4        B5        B6  \\\n",
              "date                                                                     \n",
              "2013-04-30  0.022379  0.031879  0.063152  0.073560  0.235636  0.232063   \n",
              "2013-05-31  0.021146  0.028403  0.052505  0.059534  0.237901  0.221270   \n",
              "2013-06-30  0.027105  0.035486  0.064335  0.074183  0.250958  0.247647   \n",
              "2013-07-31  0.037844  0.050307  0.092101  0.109422  0.267659  0.300776   \n",
              "2013-08-31  0.038849  0.054662  0.095573  0.117793  0.249218  0.319467   \n",
              "...              ...       ...       ...       ...       ...       ...   \n",
              "2021-08-31  0.029623  0.042586  0.072279  0.087170  0.223368  0.258077   \n",
              "2021-09-30  0.032635  0.044407  0.073262  0.099220  0.220139  0.297969   \n",
              "2021-10-31  0.034849  0.047514  0.074583  0.103413  0.213809  0.312250   \n",
              "2021-11-30  0.032292  0.042117  0.069693  0.085368  0.226384  0.277386   \n",
              "2021-12-31  0.023890  0.032686  0.066064  0.061146  0.302204  0.237022   \n",
              "\n",
              "                  B7         B10         B11  sr_aerosol    pixel_qa  \\\n",
              "date                                                                   \n",
              "2013-04-30  0.147786  300.078307  296.337860  135.792319  322.242805   \n",
              "2013-05-31  0.140511  301.158052  298.445014   98.509963  321.546445   \n",
              "2013-06-30  0.157697  298.699131  296.059200  133.906566  322.222200   \n",
              "2013-07-31  0.195532  294.860879  291.574476  210.836150  323.714463   \n",
              "2013-08-31  0.225496  300.821325  297.402874  167.907085  322.885805   \n",
              "...              ...         ...         ...         ...         ...   \n",
              "2021-08-31  0.169920  296.269793  293.722890  163.807395  365.800179   \n",
              "2021-09-30  0.196454  302.268919  298.830436  155.062324  322.398879   \n",
              "2021-10-31  0.212913  305.948363  302.011786  127.894839  322.001445   \n",
              "2021-11-30  0.188158  306.586891  302.798348   94.226989  322.000983   \n",
              "2021-12-31  0.134603  297.387891  293.537398  107.710827  324.053794   \n",
              "\n",
              "               radsat_qa       EVI      NDVI  \n",
              "date                                          \n",
              "2013-04-30  0.000000e+00  0.286267  0.547372  \n",
              "2013-05-31 -8.439557e-24  0.324738  0.613173  \n",
              "2013-06-30  0.000000e+00  0.313338  0.575990  \n",
              "2013-07-31  0.000000e+00  0.260197  0.456526  \n",
              "2013-08-31  0.000000e+00  0.215755  0.382851  \n",
              "...                  ...       ...       ...  \n",
              "2021-08-31  0.000000e+00  0.239787  0.450782  \n",
              "2021-09-30  0.000000e+00  0.204461  0.392875  \n",
              "2021-10-31  0.000000e+00  0.187668  0.360031  \n",
              "2021-11-30  0.000000e+00  0.252152  0.467063  \n",
              "2021-12-31  0.000000e+00  0.428070  0.670107  \n",
              "\n",
              "[105 rows x 14 columns]"
            ],
            "text/html": [
              "\n",
              "  <div id=\"df-e886d33f-be23-48e9-9eb9-349c7f2b1623\">\n",
              "    <div class=\"colab-df-container\">\n",
              "      <div>\n",
              "<style scoped>\n",
              "    .dataframe tbody tr th:only-of-type {\n",
              "        vertical-align: middle;\n",
              "    }\n",
              "\n",
              "    .dataframe tbody tr th {\n",
              "        vertical-align: top;\n",
              "    }\n",
              "\n",
              "    .dataframe thead th {\n",
              "        text-align: right;\n",
              "    }\n",
              "</style>\n",
              "<table border=\"1\" class=\"dataframe\">\n",
              "  <thead>\n",
              "    <tr style=\"text-align: right;\">\n",
              "      <th></th>\n",
              "      <th>B1</th>\n",
              "      <th>B2</th>\n",
              "      <th>B3</th>\n",
              "      <th>B4</th>\n",
              "      <th>B5</th>\n",
              "      <th>B6</th>\n",
              "      <th>B7</th>\n",
              "      <th>B10</th>\n",
              "      <th>B11</th>\n",
              "      <th>sr_aerosol</th>\n",
              "      <th>pixel_qa</th>\n",
              "      <th>radsat_qa</th>\n",
              "      <th>EVI</th>\n",
              "      <th>NDVI</th>\n",
              "    </tr>\n",
              "    <tr>\n",
              "      <th>date</th>\n",
              "      <th></th>\n",
              "      <th></th>\n",
              "      <th></th>\n",
              "      <th></th>\n",
              "      <th></th>\n",
              "      <th></th>\n",
              "      <th></th>\n",
              "      <th></th>\n",
              "      <th></th>\n",
              "      <th></th>\n",
              "      <th></th>\n",
              "      <th></th>\n",
              "      <th></th>\n",
              "      <th></th>\n",
              "    </tr>\n",
              "  </thead>\n",
              "  <tbody>\n",
              "    <tr>\n",
              "      <th>2013-04-30</th>\n",
              "      <td>0.022379</td>\n",
              "      <td>0.031879</td>\n",
              "      <td>0.063152</td>\n",
              "      <td>0.073560</td>\n",
              "      <td>0.235636</td>\n",
              "      <td>0.232063</td>\n",
              "      <td>0.147786</td>\n",
              "      <td>300.078307</td>\n",
              "      <td>296.337860</td>\n",
              "      <td>135.792319</td>\n",
              "      <td>322.242805</td>\n",
              "      <td>0.000000e+00</td>\n",
              "      <td>0.286267</td>\n",
              "      <td>0.547372</td>\n",
              "    </tr>\n",
              "    <tr>\n",
              "      <th>2013-05-31</th>\n",
              "      <td>0.021146</td>\n",
              "      <td>0.028403</td>\n",
              "      <td>0.052505</td>\n",
              "      <td>0.059534</td>\n",
              "      <td>0.237901</td>\n",
              "      <td>0.221270</td>\n",
              "      <td>0.140511</td>\n",
              "      <td>301.158052</td>\n",
              "      <td>298.445014</td>\n",
              "      <td>98.509963</td>\n",
              "      <td>321.546445</td>\n",
              "      <td>-8.439557e-24</td>\n",
              "      <td>0.324738</td>\n",
              "      <td>0.613173</td>\n",
              "    </tr>\n",
              "    <tr>\n",
              "      <th>2013-06-30</th>\n",
              "      <td>0.027105</td>\n",
              "      <td>0.035486</td>\n",
              "      <td>0.064335</td>\n",
              "      <td>0.074183</td>\n",
              "      <td>0.250958</td>\n",
              "      <td>0.247647</td>\n",
              "      <td>0.157697</td>\n",
              "      <td>298.699131</td>\n",
              "      <td>296.059200</td>\n",
              "      <td>133.906566</td>\n",
              "      <td>322.222200</td>\n",
              "      <td>0.000000e+00</td>\n",
              "      <td>0.313338</td>\n",
              "      <td>0.575990</td>\n",
              "    </tr>\n",
              "    <tr>\n",
              "      <th>2013-07-31</th>\n",
              "      <td>0.037844</td>\n",
              "      <td>0.050307</td>\n",
              "      <td>0.092101</td>\n",
              "      <td>0.109422</td>\n",
              "      <td>0.267659</td>\n",
              "      <td>0.300776</td>\n",
              "      <td>0.195532</td>\n",
              "      <td>294.860879</td>\n",
              "      <td>291.574476</td>\n",
              "      <td>210.836150</td>\n",
              "      <td>323.714463</td>\n",
              "      <td>0.000000e+00</td>\n",
              "      <td>0.260197</td>\n",
              "      <td>0.456526</td>\n",
              "    </tr>\n",
              "    <tr>\n",
              "      <th>2013-08-31</th>\n",
              "      <td>0.038849</td>\n",
              "      <td>0.054662</td>\n",
              "      <td>0.095573</td>\n",
              "      <td>0.117793</td>\n",
              "      <td>0.249218</td>\n",
              "      <td>0.319467</td>\n",
              "      <td>0.225496</td>\n",
              "      <td>300.821325</td>\n",
              "      <td>297.402874</td>\n",
              "      <td>167.907085</td>\n",
              "      <td>322.885805</td>\n",
              "      <td>0.000000e+00</td>\n",
              "      <td>0.215755</td>\n",
              "      <td>0.382851</td>\n",
              "    </tr>\n",
              "    <tr>\n",
              "      <th>...</th>\n",
              "      <td>...</td>\n",
              "      <td>...</td>\n",
              "      <td>...</td>\n",
              "      <td>...</td>\n",
              "      <td>...</td>\n",
              "      <td>...</td>\n",
              "      <td>...</td>\n",
              "      <td>...</td>\n",
              "      <td>...</td>\n",
              "      <td>...</td>\n",
              "      <td>...</td>\n",
              "      <td>...</td>\n",
              "      <td>...</td>\n",
              "      <td>...</td>\n",
              "    </tr>\n",
              "    <tr>\n",
              "      <th>2021-08-31</th>\n",
              "      <td>0.029623</td>\n",
              "      <td>0.042586</td>\n",
              "      <td>0.072279</td>\n",
              "      <td>0.087170</td>\n",
              "      <td>0.223368</td>\n",
              "      <td>0.258077</td>\n",
              "      <td>0.169920</td>\n",
              "      <td>296.269793</td>\n",
              "      <td>293.722890</td>\n",
              "      <td>163.807395</td>\n",
              "      <td>365.800179</td>\n",
              "      <td>0.000000e+00</td>\n",
              "      <td>0.239787</td>\n",
              "      <td>0.450782</td>\n",
              "    </tr>\n",
              "    <tr>\n",
              "      <th>2021-09-30</th>\n",
              "      <td>0.032635</td>\n",
              "      <td>0.044407</td>\n",
              "      <td>0.073262</td>\n",
              "      <td>0.099220</td>\n",
              "      <td>0.220139</td>\n",
              "      <td>0.297969</td>\n",
              "      <td>0.196454</td>\n",
              "      <td>302.268919</td>\n",
              "      <td>298.830436</td>\n",
              "      <td>155.062324</td>\n",
              "      <td>322.398879</td>\n",
              "      <td>0.000000e+00</td>\n",
              "      <td>0.204461</td>\n",
              "      <td>0.392875</td>\n",
              "    </tr>\n",
              "    <tr>\n",
              "      <th>2021-10-31</th>\n",
              "      <td>0.034849</td>\n",
              "      <td>0.047514</td>\n",
              "      <td>0.074583</td>\n",
              "      <td>0.103413</td>\n",
              "      <td>0.213809</td>\n",
              "      <td>0.312250</td>\n",
              "      <td>0.212913</td>\n",
              "      <td>305.948363</td>\n",
              "      <td>302.011786</td>\n",
              "      <td>127.894839</td>\n",
              "      <td>322.001445</td>\n",
              "      <td>0.000000e+00</td>\n",
              "      <td>0.187668</td>\n",
              "      <td>0.360031</td>\n",
              "    </tr>\n",
              "    <tr>\n",
              "      <th>2021-11-30</th>\n",
              "      <td>0.032292</td>\n",
              "      <td>0.042117</td>\n",
              "      <td>0.069693</td>\n",
              "      <td>0.085368</td>\n",
              "      <td>0.226384</td>\n",
              "      <td>0.277386</td>\n",
              "      <td>0.188158</td>\n",
              "      <td>306.586891</td>\n",
              "      <td>302.798348</td>\n",
              "      <td>94.226989</td>\n",
              "      <td>322.000983</td>\n",
              "      <td>0.000000e+00</td>\n",
              "      <td>0.252152</td>\n",
              "      <td>0.467063</td>\n",
              "    </tr>\n",
              "    <tr>\n",
              "      <th>2021-12-31</th>\n",
              "      <td>0.023890</td>\n",
              "      <td>0.032686</td>\n",
              "      <td>0.066064</td>\n",
              "      <td>0.061146</td>\n",
              "      <td>0.302204</td>\n",
              "      <td>0.237022</td>\n",
              "      <td>0.134603</td>\n",
              "      <td>297.387891</td>\n",
              "      <td>293.537398</td>\n",
              "      <td>107.710827</td>\n",
              "      <td>324.053794</td>\n",
              "      <td>0.000000e+00</td>\n",
              "      <td>0.428070</td>\n",
              "      <td>0.670107</td>\n",
              "    </tr>\n",
              "  </tbody>\n",
              "</table>\n",
              "<p>105 rows × 14 columns</p>\n",
              "</div>\n",
              "      <button class=\"colab-df-convert\" onclick=\"convertToInteractive('df-e886d33f-be23-48e9-9eb9-349c7f2b1623')\"\n",
              "              title=\"Convert this dataframe to an interactive table.\"\n",
              "              style=\"display:none;\">\n",
              "        \n",
              "  <svg xmlns=\"http://www.w3.org/2000/svg\" height=\"24px\"viewBox=\"0 0 24 24\"\n",
              "       width=\"24px\">\n",
              "    <path d=\"M0 0h24v24H0V0z\" fill=\"none\"/>\n",
              "    <path d=\"M18.56 5.44l.94 2.06.94-2.06 2.06-.94-2.06-.94-.94-2.06-.94 2.06-2.06.94zm-11 1L8.5 8.5l.94-2.06 2.06-.94-2.06-.94L8.5 2.5l-.94 2.06-2.06.94zm10 10l.94 2.06.94-2.06 2.06-.94-2.06-.94-.94-2.06-.94 2.06-2.06.94z\"/><path d=\"M17.41 7.96l-1.37-1.37c-.4-.4-.92-.59-1.43-.59-.52 0-1.04.2-1.43.59L10.3 9.45l-7.72 7.72c-.78.78-.78 2.05 0 2.83L4 21.41c.39.39.9.59 1.41.59.51 0 1.02-.2 1.41-.59l7.78-7.78 2.81-2.81c.8-.78.8-2.07 0-2.86zM5.41 20L4 18.59l7.72-7.72 1.47 1.35L5.41 20z\"/>\n",
              "  </svg>\n",
              "      </button>\n",
              "      \n",
              "  <style>\n",
              "    .colab-df-container {\n",
              "      display:flex;\n",
              "      flex-wrap:wrap;\n",
              "      gap: 12px;\n",
              "    }\n",
              "\n",
              "    .colab-df-convert {\n",
              "      background-color: #E8F0FE;\n",
              "      border: none;\n",
              "      border-radius: 50%;\n",
              "      cursor: pointer;\n",
              "      display: none;\n",
              "      fill: #1967D2;\n",
              "      height: 32px;\n",
              "      padding: 0 0 0 0;\n",
              "      width: 32px;\n",
              "    }\n",
              "\n",
              "    .colab-df-convert:hover {\n",
              "      background-color: #E2EBFA;\n",
              "      box-shadow: 0px 1px 2px rgba(60, 64, 67, 0.3), 0px 1px 3px 1px rgba(60, 64, 67, 0.15);\n",
              "      fill: #174EA6;\n",
              "    }\n",
              "\n",
              "    [theme=dark] .colab-df-convert {\n",
              "      background-color: #3B4455;\n",
              "      fill: #D2E3FC;\n",
              "    }\n",
              "\n",
              "    [theme=dark] .colab-df-convert:hover {\n",
              "      background-color: #434B5C;\n",
              "      box-shadow: 0px 1px 3px 1px rgba(0, 0, 0, 0.15);\n",
              "      filter: drop-shadow(0px 1px 2px rgba(0, 0, 0, 0.3));\n",
              "      fill: #FFFFFF;\n",
              "    }\n",
              "  </style>\n",
              "\n",
              "      <script>\n",
              "        const buttonEl =\n",
              "          document.querySelector('#df-e886d33f-be23-48e9-9eb9-349c7f2b1623 button.colab-df-convert');\n",
              "        buttonEl.style.display =\n",
              "          google.colab.kernel.accessAllowed ? 'block' : 'none';\n",
              "\n",
              "        async function convertToInteractive(key) {\n",
              "          const element = document.querySelector('#df-e886d33f-be23-48e9-9eb9-349c7f2b1623');\n",
              "          const dataTable =\n",
              "            await google.colab.kernel.invokeFunction('convertToInteractive',\n",
              "                                                     [key], {});\n",
              "          if (!dataTable) return;\n",
              "\n",
              "          const docLinkHtml = 'Like what you see? Visit the ' +\n",
              "            '<a target=\"_blank\" href=https://colab.research.google.com/notebooks/data_table.ipynb>data table notebook</a>'\n",
              "            + ' to learn more about interactive tables.';\n",
              "          element.innerHTML = '';\n",
              "          dataTable['output_type'] = 'display_data';\n",
              "          await google.colab.output.renderOutput(dataTable, element);\n",
              "          const docLink = document.createElement('div');\n",
              "          docLink.innerHTML = docLinkHtml;\n",
              "          element.appendChild(docLink);\n",
              "        }\n",
              "      </script>\n",
              "    </div>\n",
              "  </div>\n",
              "  "
            ]
          },
          "metadata": {},
          "execution_count": 24
        }
      ]
    },
    {
      "cell_type": "code",
      "source": [
        "fig, ax = plot.subplots(figsize=(10, 5), tight=True)\n",
        "\n",
        "ax.plot(indices_mensais_interp.index, indices_mensais_interp['NDVI'],\n",
        "        color='green', marker='x', label='NDVI')\n",
        "\n",
        "ax.format(xlabel='Anos', ylabel='Valor',\n",
        "          title='NDVI - TI Atikum - Séries Mensais de 2013 a 2021',\n",
        "          xrotation=0, xtickminor=False, ytickminor=False,\n",
        "          small='15px', large='20px', grid=False)\n",
        "\n",
        "ax.legend(loc='bottom', frameon=False)\n",
        "\n",
        "plot.show()"
      ],
      "metadata": {
        "id": "Ic36cqZFb6CF"
      },
      "execution_count": null,
      "outputs": []
    },
    {
      "cell_type": "markdown",
      "source": [
        "### ***`NDVI - TI Atikum - Heatmap`***"
      ],
      "metadata": {
        "id": "mVyXUQY7cYJ-"
      }
    },
    {
      "cell_type": "code",
      "source": [
        "import seaborn as sns"
      ],
      "metadata": {
        "id": "SIh4s1hgcZJp"
      },
      "execution_count": null,
      "outputs": []
    },
    {
      "cell_type": "code",
      "source": [
        "ndvi = np.reshape(indices_mensais_interp['NDVI']['2014-01-01':'2021-12-31'].values, (8, 12), order='C')"
      ],
      "metadata": {
        "id": "tPSKg1IXcq7X"
      },
      "execution_count": null,
      "outputs": []
    },
    {
      "cell_type": "code",
      "source": [
        "# deixando o proplot de lado e voltando para o bom e velho matplotlib\n",
        "fig, ax = plt.subplots(figsize=(10, 5))\n",
        "\n",
        "# criando heatmap com seaborn\n",
        "sns.heatmap(ndvi, vmin=0, vmax=1, cmap='RdYlGn',\n",
        "            xticklabels=['JAN', 'FEV', 'MAR', 'ABR', 'MAI', 'JUN','JUL', 'AGO', 'SET', 'OUT', 'NOV', 'DEZ'],\n",
        "            yticklabels=plot.arange(2014, 2021, 1), \n",
        "            linewidth=0.5, linecolor='black',\n",
        "            cbar_kws={'label': 'NDVI'}, annot=True,)\n",
        "\n",
        "plt.tight_layout()\n",
        "plt.show()"
      ],
      "metadata": {
        "id": "YgHfEo_hdrqr"
      },
      "execution_count": null,
      "outputs": []
    },
    {
      "cell_type": "markdown",
      "source": [
        "## **`Análise LANDSAT 8 - Impacto pós queimada`**"
      ],
      "metadata": {
        "id": "2iyqE8f6q0MT"
      }
    },
    {
      "cell_type": "code",
      "source": [
        "import proplot as plot\n",
        "import wxee\n",
        "import xarray as xr"
      ],
      "metadata": {
        "id": "qEK9ftqUq0Md"
      },
      "execution_count": null,
      "outputs": []
    },
    {
      "cell_type": "code",
      "source": [
        "roi=gpd.read_file('/content/drive/MyDrive/TCC_Shapefiles/TI_ATIKUM.shp')\n",
        "roi=roi.to_json()\n",
        "roi=json.loads(roi)\n",
        "ATIKUM=ee.FeatureCollection(roi)"
      ],
      "metadata": {
        "id": "XGel_lPCq0Md"
      },
      "execution_count": null,
      "outputs": []
    },
    {
      "cell_type": "code",
      "source": [
        "landsat8 = ee.ImageCollection(\"LANDSAT/LC08/C01/T1_SR\") \\\n",
        "             .filterBounds(ATIKUM) \\\n",
        "             .scale() \\\n",
        "             .preprocess()\\\n",
        "             .maskClouds() \\"
      ],
      "metadata": {
        "id": "7fCk1No1q0Me"
      },
      "execution_count": null,
      "outputs": []
    },
    {
      "cell_type": "code",
      "source": [
        "#Houve um incêndio no dia 2021/10/15\n",
        "\n",
        "landsat8_set_2020 = landsat8.filterDate('2021-08-01', '2021-10-01').median()\n",
        "landsat8_out_2020 = landsat8.filterDate('2021-10-14', '2021-12-14').median()"
      ],
      "metadata": {
        "id": "ZMl7Qqq_q0Me"
      },
      "execution_count": null,
      "outputs": []
    },
    {
      "cell_type": "code",
      "source": [
        "#Bandas\n",
        "preNBR =landsat8_set_2020.normalizedDifference(['B5', 'B7']).clip(ATIKUM)\n",
        "postNBR = landsat8_out_2020.normalizedDifference(['B5', 'B7']).clip(ATIKUM)"
      ],
      "metadata": {
        "id": "P7KqjOH0q0Me"
      },
      "execution_count": null,
      "outputs": []
    },
    {
      "cell_type": "code",
      "source": [
        "DELTANBR=preNBR.subtract(postNBR)"
      ],
      "metadata": {
        "id": "eXjQP3aXq0Me"
      },
      "execution_count": null,
      "outputs": []
    },
    {
      "cell_type": "code",
      "source": [
        "print(DELTANBR.getInfo())"
      ],
      "metadata": {
        "colab": {
          "base_uri": "https://localhost:8080/"
        },
        "id": "PqGPtXb4CgGY",
        "outputId": "64fdf5cf-6809-4dfc-85fb-934d27a0e1c0"
      },
      "execution_count": null,
      "outputs": [
        {
          "output_type": "stream",
          "name": "stdout",
          "text": [
            "{'type': 'Image', 'bands': [{'id': 'nd', 'data_type': {'type': 'PixelType', 'precision': 'float', 'min': -2, 'max': 2}, 'crs': 'EPSG:4326', 'crs_transform': [1, 0, 0, 0, 1, 0]}]}\n"
          ]
        }
      ]
    },
    {
      "cell_type": "code",
      "source": [
        "Map = geemap.Map(location=[-8.28, -38.7617], zoom=12)\n",
        "viz =  {'min':-0.5, 'max':0.5, 'palette': cm.palettes.RdYlGn_r}\n",
        "Map.add_colorbar(viz, label='dNBR', orientation='horizontal')\n",
        "Map.addLayer(DELTANBR,viz,'dNBR')\n",
        "Map"
      ],
      "metadata": {
        "colab": {
          "base_uri": "https://localhost:8080/",
          "height": 621,
          "referenced_widgets": [
            "973f9bdafdbc4841a6fc7707bed29182",
            "5d39ee9d4d20402cb813f36b9774f781",
            "1fa05dd257e54899bc08c9063d520a06",
            "d69c845a0e05451d89b5e9daa9d6a7a5",
            "137c4f0fa2fb472fb30e4331a9801442",
            "31b7b748321040d5af5bc4beea40dbc9",
            "7ea09154c17b4e1e9cc982dabd6af508",
            "25251ae930c94569a02ad6c634769f73",
            "be3e879e1bf54612b7cfe56c89f76867",
            "f6e160bbef1c487d9d86d1bc450f5483",
            "c1b4bc8e1a104c8a96c2367663c358db",
            "225a4cdfb00d4c5883e50a813e32cd78",
            "57f801edbbe34497838db33215f82fd1",
            "d74bc4eb3c4f47718fdc8be70d8c5d75",
            "7df589dbb903417690b041cd5324efbb",
            "059fcbf9a6ed4d3798555582e70aa154",
            "36f55d33b1ac4440a5d2adf1eacc9758",
            "eba22558dd69486b8ca40eb216aea99f",
            "b27de12f469f40d4ae8698953339afdd",
            "c5c271086b5a4fc9a4591a24ed68b9ec",
            "bd41e1a216a541839fe3df8b8b1fb82f",
            "22b43a31e43e4fca96ef831ae2b7540b",
            "b99ad788d5b348da90cd78be4e19941b",
            "3000d8b24bc944c09a710081a2b64343",
            "59bd5a10d76c4c0b933fb6705bff216c",
            "932c27568907495fb75f1ff10fe16fed",
            "24984461ee6049f49e4e6c172ec78ce5",
            "68641176bee74ed4ab1930129aaf0920",
            "d6bdea2d294d46cf86283b6d420947fa"
          ]
        },
        "id": "TXCl1fvp4N4T",
        "outputId": "6a12d217-a3e2-4cdd-fa6d-b9bda8830ca3"
      },
      "execution_count": null,
      "outputs": [
        {
          "output_type": "display_data",
          "data": {
            "text/plain": [
              "Map(center=[-8.28, -38.7617], controls=(WidgetControl(options=['position', 'transparent_bg'], widget=HBox(chil…"
            ],
            "application/vnd.jupyter.widget-view+json": {
              "version_major": 2,
              "version_minor": 0,
              "model_id": "973f9bdafdbc4841a6fc7707bed29182"
            }
          },
          "metadata": {
            "application/vnd.jupyter.widget-view+json": {
              "colab": {
                "custom_widget_manager": {
                  "url": "https://ssl.gstatic.com/colaboratory-static/widgets/colab-cdn-widget-manager/d2e234f7cc04bf79/manager.min.js"
                }
              }
            }
          }
        }
      ]
    },
    {
      "cell_type": "code",
      "source": [
        "#Sugestão do André! Analisar!\n",
        "latlon = ee.Image.pixelLonLat().addBands(DELTANBR)"
      ],
      "metadata": {
        "id": "L4iYjNI9qGGa"
      },
      "execution_count": null,
      "outputs": []
    },
    {
      "cell_type": "code",
      "source": [
        "#Exportar imagem para o Drive em formato tiff\n",
        "\n",
        "region= ee.Geometry.Rectangle(-39.00,-8.20,-38.7,-8.4)#Importante fazer isso para cada nova área analisada\n",
        "task = ee.batch.Export.image.toDrive(**{\n",
        "    'image':DELTANBR,\n",
        "    'description':'Image export 2',\n",
        "    'folder':'TESTE',\n",
        "    'scale':30,\n",
        "    'region': region.getInfo()['coordinates']\n",
        "})\n",
        "task.start()\n",
        "\n",
        "### Com esse comando consigo exportar a imagem e gerar todos meus plots pelo QGGIS/ArcMap!!!"
      ],
      "metadata": {
        "id": "J7Xg8-0TL-f7"
      },
      "execution_count": null,
      "outputs": []
    },
    {
      "cell_type": "markdown",
      "source": [
        "***Cálculo de área - Impacto pós queimada***"
      ],
      "metadata": {
        "id": "pQbXOFDGJ8z9"
      }
    },
    {
      "cell_type": "code",
      "source": [
        "NBRALTO=DELTANBR.gt(-2)"
      ],
      "metadata": {
        "id": "WU_vF8czvmvx"
      },
      "execution_count": null,
      "outputs": []
    },
    {
      "cell_type": "code",
      "source": [
        "NBRALTO_MASK=NBRALTO.clip(ATIKUM).selfMask()"
      ],
      "metadata": {
        "id": "agienU5u13Lx"
      },
      "execution_count": null,
      "outputs": []
    },
    {
      "cell_type": "code",
      "source": [
        "Map = geemap.Map(location=[-8.29, -38.7617], zoom=12)\n",
        "viz =  {'min':-0.5, 'max':0.5, 'palette': cm.palettes.RdYlGn_r}\n",
        "Map.addLayer(NBRALTO_MASK,viz)\n",
        "Map.add_colorbar(viz, label='dNBR', orientation='horizontal')\n",
        "Map"
      ],
      "metadata": {
        "colab": {
          "base_uri": "https://localhost:8080/",
          "height": 621,
          "referenced_widgets": [
            "446df77094a7437098a7c66cc5e7c781",
            "7d7f595a8d554f6e83f1b4249af56b39",
            "5415146ec44e4a218585a4bbdeed1a51",
            "b967e230fb594f5597765d6b129f1e06",
            "8fb36d3a6cfb48e0815378a99ae2a045",
            "7f3823758a8a46d0a9dbcffdf57e8222",
            "a8ff2656aebe437a9d60e434b18db322",
            "1ad52cf301074fb9b4b665dbc2738e33",
            "584f82d43239406e8d065e4f57ddb8ac",
            "ecbcd40a247b4b93900a781914ee02a6",
            "69f661175eab47a3b3095a8edace0506",
            "1e9601bb80a64d469564c7b82d73fa72",
            "9758886bbe364f24a4e66f20eab8034e",
            "d74bc4eb3c4f47718fdc8be70d8c5d75",
            "0a7db720a3414903a6843af65056679f",
            "d6242cd3dae64686a98579cb14faa42a",
            "e95dd96e9d964ae591b9fae1c6c87823",
            "69d7c27a29ad4d95b3a733fb094c53df",
            "90848ccb3be7442a9a98d3b5e218b3f6",
            "c124898d75e7416280b6ed68cb16ecd4",
            "6c68647948f1447689fe08568eb20184",
            "1306c392479f498082634fa258ace07f",
            "8c5abfb8bab448d5bd0fe74fae30a620",
            "2301189fb49a4d2fbba67d6f771485fc",
            "5d753b8179c54614bc721a367c941bbd",
            "8b6f75f7812e4bdc9cd280dc9a6b7a10",
            "716cae6c61e44e7f9dafef9c21cc0f7a",
            "8060ba36c7c04578880c35436b9ccdee",
            "a0431fdbe5c64b048bd445fbf69e6c5f"
          ]
        },
        "id": "jRUSJOHr1Yww",
        "outputId": "2bfb4134-c1e4-4939-ac11-4cb8e650e442"
      },
      "execution_count": null,
      "outputs": [
        {
          "output_type": "display_data",
          "data": {
            "text/plain": [
              "Map(center=[-8.29, -38.7617], controls=(WidgetControl(options=['position', 'transparent_bg'], widget=HBox(chil…"
            ],
            "application/vnd.jupyter.widget-view+json": {
              "version_major": 2,
              "version_minor": 0,
              "model_id": "446df77094a7437098a7c66cc5e7c781"
            }
          },
          "metadata": {
            "application/vnd.jupyter.widget-view+json": {
              "colab": {
                "custom_widget_manager": {
                  "url": "https://ssl.gstatic.com/colaboratory-static/widgets/colab-cdn-widget-manager/d2e234f7cc04bf79/manager.min.js"
                }
              }
            }
          }
        }
      ]
    },
    {
      "cell_type": "code",
      "source": [
        "allpix=NBRALTO_MASK.reduce('sum').toInt()"
      ],
      "metadata": {
        "id": "hO9nAAChv_BG"
      },
      "execution_count": null,
      "outputs": []
    },
    {
      "cell_type": "code",
      "source": [
        "pixstats = allpix.reduceRegion(**{\n",
        "  'reducer': ee.Reducer.count(),               \n",
        "  'geometry': ATIKUM,\n",
        "  'scale': 30 #Resolução espacial do Satélite\n",
        "  });"
      ],
      "metadata": {
        "id": "AWDpaFpc0lYv"
      },
      "execution_count": null,
      "outputs": []
    },
    {
      "cell_type": "code",
      "source": [
        "allpixels = ee.Number(pixstats.get('sum'))"
      ],
      "metadata": {
        "id": "m-_yTxjS0t8Y"
      },
      "execution_count": null,
      "outputs": []
    },
    {
      "cell_type": "code",
      "source": [
        "NPixels=allpixels.getInfo()"
      ],
      "metadata": {
        "id": "IZ3H6f6z3A_q"
      },
      "execution_count": null,
      "outputs": []
    },
    {
      "cell_type": "code",
      "source": [
        "print(\"O número de pixels nas condições indicadas é: \",NPixels)"
      ],
      "metadata": {
        "colab": {
          "base_uri": "https://localhost:8080/"
        },
        "id": "KjiBVCOY0yG4",
        "outputId": "3f059445-c2da-4b92-ef6e-6901fed3414a"
      },
      "execution_count": null,
      "outputs": [
        {
          "output_type": "stream",
          "name": "stdout",
          "text": [
            "O número de pixels nas condições indicadas é:  184326\n"
          ]
        }
      ]
    },
    {
      "cell_type": "code",
      "source": [
        "print(\"A área, em hectares, é:\",NPixels*30*30/1e4)"
      ],
      "metadata": {
        "colab": {
          "base_uri": "https://localhost:8080/"
        },
        "id": "G8u4O0pi21Ws",
        "outputId": "d151ffc4-e6d4-42ef-93fc-41b97d8eb976"
      },
      "execution_count": null,
      "outputs": [
        {
          "output_type": "stream",
          "name": "stdout",
          "text": [
            "A área, em hectares, é: 16589.34\n"
          ]
        }
      ]
    },
    {
      "cell_type": "markdown",
      "source": [
        "## **`Composição de banda - SENTINEL 2A - 12,8A,4`**"
      ],
      "metadata": {
        "id": "1j4munWPzYYs"
      }
    },
    {
      "cell_type": "code",
      "source": [
        "roi=gpd.read_file('/content/drive/MyDrive/TCC_Shapefiles/TI_ATIKUM.shp')\n",
        "roi=roi.to_json()\n",
        "roi=json.loads(roi)\n",
        "ATIKUM=ee.FeatureCollection(roi)"
      ],
      "metadata": {
        "id": "mtPMMv_zzofB"
      },
      "execution_count": null,
      "outputs": []
    },
    {
      "cell_type": "code",
      "source": [
        "sentinel2 = ee.ImageCollection(\"COPERNICUS/S2_SR\") \\\n",
        "             .filterBounds(ATIKUM) \\\n",
        "             .preprocess()\\\n",
        "             .maskClouds() \\"
      ],
      "metadata": {
        "id": "GfmSNntZz9Ow"
      },
      "execution_count": null,
      "outputs": []
    },
    {
      "cell_type": "code",
      "source": [
        "sentinel2_out_2020 = sentinel2.filterDate('2021-10-01', '2021-10-30').median().clip(ATIKUM)"
      ],
      "metadata": {
        "id": "sOJuB2W-z_q3"
      },
      "execution_count": null,
      "outputs": []
    },
    {
      "cell_type": "code",
      "source": [
        "FALSACOR = sentinel2_out_2020.select('B12','B8A','B4')"
      ],
      "metadata": {
        "id": "07GeOJOO0jnf"
      },
      "execution_count": null,
      "outputs": []
    },
    {
      "cell_type": "code",
      "source": [
        "FALSACOR_VIZ = {'min':0.019, 'max': 0.19, \n",
        "           'bands':['B12','B8A','B4']}"
      ],
      "metadata": {
        "id": "ZmS4T1hk-NRg"
      },
      "execution_count": null,
      "outputs": []
    },
    {
      "cell_type": "code",
      "source": [
        "Map = geemap.Map(location=[-8.31, -38.7617], zoom=12)\n",
        "Map.addLayer(FALSACOR,FALSACOR_VIZ)\n",
        "Map"
      ],
      "metadata": {
        "id": "7EINng4m09S4"
      },
      "execution_count": null,
      "outputs": []
    },
    {
      "cell_type": "code",
      "source": [
        "#Exportar imagem para o Drive em formato tiff\n",
        "\n",
        "region= ee.Geometry.Rectangle(-39.00,-8.20,-38.7,-8.4)#Importante fazer isso para cada nova área analisada\n",
        "task = ee.batch.Export.image.toDrive(**{\n",
        "    'image':FALSACOR,\n",
        "    'description':'FALSACOR',\n",
        "    'folder':'TESTE',\n",
        "    'scale':10,\n",
        "    'region': region.getInfo()['coordinates']\n",
        "})\n",
        "task.start()\n",
        "\n",
        "### Com esse comando consigo exportar a imagem e gerar todos meus plots pelo QGGIS/ArcMap!!!"
      ],
      "metadata": {
        "id": "AKw5HPni14y2"
      },
      "execution_count": null,
      "outputs": []
    },
    {
      "cell_type": "code",
      "source": [
        "#Exportar imagem para o Drive em formato tiff\n",
        "\n",
        "region= ee.Geometry.Rectangle(-39.00,-8.20,-38.7,-8.4)#Importante fazer isso para cada nova área analisada\n",
        "task = ee.batch.Export.image.toDrive(**{\n",
        "    'image':sentinel2_out_2020,\n",
        "    'description':'sentinel2_out_2020_falsacor',\n",
        "    'folder':'TESTE',\n",
        "    'scale':10,\n",
        "    'region': region.getInfo()['coordinates']\n",
        "})\n",
        "task.start()\n",
        "\n",
        "### Com esse comando consigo exportar a imagem e gerar todos meus plots pelo QGGIS/ArcMap!!!"
      ],
      "metadata": {
        "id": "ceH4hMjn3QAP"
      },
      "execution_count": null,
      "outputs": []
    }
  ],
  "metadata": {
    "colab": {
      "provenance": [],
      "collapsed_sections": [
        "OyKwpD4bj-Iy",
        "tgHMXII4qfY4"
      ]
    },
    "kernelspec": {
      "display_name": "Python 3",
      "name": "python3"
    },
    "language_info": {
      "name": "python"
    },
    "widgets": {
      "application/vnd.jupyter.widget-state+json": {
        "dcbdf5218b26437aa4dd061fca731940": {
          "model_module": "jupyter-leaflet",
          "model_name": "LeafletMapModel",
          "model_module_version": "^0.17",
          "state": {
            "_dom_classes": [],
            "_model_module": "jupyter-leaflet",
            "_model_module_version": "^0.17",
            "_model_name": "LeafletMapModel",
            "_view_count": null,
            "_view_module": "jupyter-leaflet",
            "_view_module_version": "^0.17",
            "_view_name": "LeafletMapView",
            "bottom": 1097417,
            "bounce_at_zoom_limits": true,
            "box_zoom": true,
            "center": [
              -8.303480663984923,
              -38.82750652116684
            ],
            "close_popup_on_click": true,
            "controls": [
              "IPY_MODEL_264ab5ace054404596e36971d8b3fbbd",
              "IPY_MODEL_51783374abfc433794090d6ef25594ba",
              "IPY_MODEL_9e45c11847534e42976f42ea5ba2b38a",
              "IPY_MODEL_ab4caf7e7378433198f154b26f6c2ebe",
              "IPY_MODEL_5bd23e90e86b479dbbd23b2bdf004bb9",
              "IPY_MODEL_0a69ba16f15642748bf006b781b95e86",
              "IPY_MODEL_edf4b4196a4146098ec9d787796e714f",
              "IPY_MODEL_0653a11c486f42dbbd70d6ae4d9de77b"
            ],
            "crs": {
              "name": "EPSG3857",
              "custom": false
            },
            "default_style": "IPY_MODEL_2a217c8e264d420b83d5a03006950bb9",
            "double_click_zoom": true,
            "dragging": true,
            "dragging_style": "IPY_MODEL_f612f499cea34bd489ebba7d4a5e03e8",
            "east": -38.655223846435554,
            "fullscreen": false,
            "inertia": true,
            "inertia_deceleration": 3000,
            "inertia_max_speed": 1500,
            "interpolation": "bilinear",
            "keyboard": true,
            "keyboard_pan_offset": 80,
            "keyboard_zoom_offset": 1,
            "layers": [
              "IPY_MODEL_bf6c148e17dd40489f85a3c49342fefe",
              "IPY_MODEL_8ff876be3c544029b7611738c925c067",
              "IPY_MODEL_fa9602dfe46d4ca2bec4df0908348886"
            ],
            "layout": "IPY_MODEL_f2e1143912904cf985d86b182fb362a1",
            "left": 821385,
            "max_zoom": 24,
            "min_zoom": null,
            "modisdate": "2022-09-17",
            "north": -8.252434455002394,
            "options": [
              "bounce_at_zoom_limits",
              "box_zoom",
              "center",
              "close_popup_on_click",
              "double_click_zoom",
              "dragging",
              "fullscreen",
              "inertia",
              "inertia_deceleration",
              "inertia_max_speed",
              "interpolation",
              "keyboard",
              "keyboard_pan_offset",
              "keyboard_zoom_offset",
              "max_zoom",
              "min_zoom",
              "prefer_canvas",
              "scroll_wheel_zoom",
              "tap",
              "tap_tolerance",
              "touch_zoom",
              "world_copy_jump",
              "zoom",
              "zoom_animation_threshold",
              "zoom_delta",
              "zoom_snap"
            ],
            "panes": {},
            "prefer_canvas": false,
            "right": 823393,
            "scroll_wheel_zoom": true,
            "south": -8.354351576018063,
            "style": "IPY_MODEL_2a217c8e264d420b83d5a03006950bb9",
            "tap": true,
            "tap_tolerance": 15,
            "top": 1096817,
            "touch_zoom": true,
            "west": -38.99991989135743,
            "window_url": "https://gvyrxnunlir-496ff2e9c6d22116-0-colab.googleusercontent.com/outputframe.html?vrz=colab-20220915-060050-RC00_474511507",
            "world_copy_jump": false,
            "zoom": 13,
            "zoom_animation_threshold": 4,
            "zoom_delta": 1,
            "zoom_snap": 1
          }
        },
        "264ab5ace054404596e36971d8b3fbbd": {
          "model_module": "jupyter-leaflet",
          "model_name": "LeafletWidgetControlModel",
          "model_module_version": "^0.17",
          "state": {
            "_model_module": "jupyter-leaflet",
            "_model_module_version": "^0.17",
            "_model_name": "LeafletWidgetControlModel",
            "_view_count": null,
            "_view_module": "jupyter-leaflet",
            "_view_module_version": "^0.17",
            "_view_name": "LeafletWidgetControlView",
            "max_height": null,
            "max_width": null,
            "min_height": null,
            "min_width": null,
            "options": [
              "position",
              "transparent_bg"
            ],
            "position": "topleft",
            "transparent_bg": false,
            "widget": "IPY_MODEL_02f276fa3202419dbffff00aadcaa0fe"
          }
        },
        "51783374abfc433794090d6ef25594ba": {
          "model_module": "jupyter-leaflet",
          "model_name": "LeafletZoomControlModel",
          "model_module_version": "^0.17",
          "state": {
            "_model_module": "jupyter-leaflet",
            "_model_module_version": "^0.17",
            "_model_name": "LeafletZoomControlModel",
            "_view_count": null,
            "_view_module": "jupyter-leaflet",
            "_view_module_version": "^0.17",
            "_view_name": "LeafletZoomControlView",
            "options": [
              "position",
              "zoom_in_text",
              "zoom_in_title",
              "zoom_out_text",
              "zoom_out_title"
            ],
            "position": "topleft",
            "zoom_in_text": "+",
            "zoom_in_title": "Zoom in",
            "zoom_out_text": "-",
            "zoom_out_title": "Zoom out"
          }
        },
        "9e45c11847534e42976f42ea5ba2b38a": {
          "model_module": "jupyter-leaflet",
          "model_name": "LeafletScaleControlModel",
          "model_module_version": "^0.17",
          "state": {
            "_model_module": "jupyter-leaflet",
            "_model_module_version": "^0.17",
            "_model_name": "LeafletScaleControlModel",
            "_view_count": null,
            "_view_module": "jupyter-leaflet",
            "_view_module_version": "^0.17",
            "_view_name": "LeafletScaleControlView",
            "imperial": true,
            "max_width": 100,
            "metric": true,
            "options": [
              "imperial",
              "max_width",
              "metric",
              "position",
              "update_when_idle"
            ],
            "position": "bottomleft",
            "update_when_idle": false
          }
        },
        "ab4caf7e7378433198f154b26f6c2ebe": {
          "model_module": "jupyter-leaflet",
          "model_name": "LeafletFullScreenControlModel",
          "model_module_version": "^0.17",
          "state": {
            "_model_module": "jupyter-leaflet",
            "_model_module_version": "^0.17",
            "_model_name": "LeafletFullScreenControlModel",
            "_view_count": null,
            "_view_module": "jupyter-leaflet",
            "_view_module_version": "^0.17",
            "_view_name": "LeafletFullScreenControlView",
            "options": [
              "position"
            ],
            "position": "topleft"
          }
        },
        "5bd23e90e86b479dbbd23b2bdf004bb9": {
          "model_module": "jupyter-leaflet",
          "model_name": "LeafletMeasureControlModel",
          "model_module_version": "^0.17",
          "state": {
            "_custom_units": {},
            "_model_module": "jupyter-leaflet",
            "_model_module_version": "^0.17",
            "_model_name": "LeafletMeasureControlModel",
            "_view_count": null,
            "_view_module": "jupyter-leaflet",
            "_view_module_version": "^0.17",
            "_view_name": "LeafletMeasureControlView",
            "active_color": "orange",
            "capture_z_index": 10000,
            "completed_color": "#C8F2BE",
            "options": [
              "active_color",
              "capture_z_index",
              "completed_color",
              "popup_options",
              "position",
              "primary_area_unit",
              "primary_length_unit",
              "secondary_area_unit",
              "secondary_length_unit"
            ],
            "popup_options": {
              "className": "leaflet-measure-resultpopup",
              "autoPanPadding": [
                10,
                10
              ]
            },
            "position": "bottomleft",
            "primary_area_unit": "acres",
            "primary_length_unit": "kilometers",
            "secondary_area_unit": null,
            "secondary_length_unit": null
          }
        },
        "0a69ba16f15642748bf006b781b95e86": {
          "model_module": "jupyter-leaflet",
          "model_name": "LeafletAttributionControlModel",
          "model_module_version": "^0.17",
          "state": {
            "_model_module": "jupyter-leaflet",
            "_model_module_version": "^0.17",
            "_model_name": "LeafletAttributionControlModel",
            "_view_count": null,
            "_view_module": "jupyter-leaflet",
            "_view_module_version": "^0.17",
            "_view_name": "LeafletAttributionControlView",
            "options": [
              "position",
              "prefix"
            ],
            "position": "bottomright",
            "prefix": "ipyleaflet"
          }
        },
        "edf4b4196a4146098ec9d787796e714f": {
          "model_module": "jupyter-leaflet",
          "model_name": "LeafletDrawControlModel",
          "model_module_version": "^0.17",
          "state": {
            "_model_module": "jupyter-leaflet",
            "_model_module_version": "^0.17",
            "_model_name": "LeafletDrawControlModel",
            "_view_count": null,
            "_view_module": "jupyter-leaflet",
            "_view_module_version": "^0.17",
            "_view_name": "LeafletDrawControlView",
            "circle": {
              "shapeOptions": {
                "color": "#3388ff"
              }
            },
            "circlemarker": {},
            "data": [],
            "edit": true,
            "marker": {
              "shapeOptions": {
                "color": "#3388ff"
              }
            },
            "options": [
              "position"
            ],
            "polygon": {
              "shapeOptions": {}
            },
            "polyline": {
              "shapeOptions": {}
            },
            "position": "topleft",
            "rectangle": {
              "shapeOptions": {
                "color": "#3388ff"
              }
            },
            "remove": true
          }
        },
        "0653a11c486f42dbbd70d6ae4d9de77b": {
          "model_module": "jupyter-leaflet",
          "model_name": "LeafletWidgetControlModel",
          "model_module_version": "^0.17",
          "state": {
            "_model_module": "jupyter-leaflet",
            "_model_module_version": "^0.17",
            "_model_name": "LeafletWidgetControlModel",
            "_view_count": null,
            "_view_module": "jupyter-leaflet",
            "_view_module_version": "^0.17",
            "_view_name": "LeafletWidgetControlView",
            "max_height": null,
            "max_width": null,
            "min_height": null,
            "min_width": null,
            "options": [
              "position",
              "transparent_bg"
            ],
            "position": "topright",
            "transparent_bg": false,
            "widget": "IPY_MODEL_960f57b9a61e45ffa07320efd12bd8e6"
          }
        },
        "2a217c8e264d420b83d5a03006950bb9": {
          "model_module": "jupyter-leaflet",
          "model_name": "LeafletMapStyleModel",
          "model_module_version": "^0.17",
          "state": {
            "_model_module": "jupyter-leaflet",
            "_model_module_version": "^0.17",
            "_model_name": "LeafletMapStyleModel",
            "_view_count": null,
            "_view_module": "@jupyter-widgets/base",
            "_view_module_version": "1.2.0",
            "_view_name": "StyleView",
            "cursor": "grab"
          }
        },
        "f612f499cea34bd489ebba7d4a5e03e8": {
          "model_module": "jupyter-leaflet",
          "model_name": "LeafletMapStyleModel",
          "model_module_version": "^0.17",
          "state": {
            "_model_module": "jupyter-leaflet",
            "_model_module_version": "^0.17",
            "_model_name": "LeafletMapStyleModel",
            "_view_count": null,
            "_view_module": "@jupyter-widgets/base",
            "_view_module_version": "1.2.0",
            "_view_name": "StyleView",
            "cursor": "move"
          }
        },
        "bf6c148e17dd40489f85a3c49342fefe": {
          "model_module": "jupyter-leaflet",
          "model_name": "LeafletTileLayerModel",
          "model_module_version": "^0.17",
          "state": {
            "_model_module": "jupyter-leaflet",
            "_model_module_version": "^0.17",
            "_model_name": "LeafletTileLayerModel",
            "_view_count": null,
            "_view_module": "jupyter-leaflet",
            "_view_module_version": "^0.17",
            "_view_name": "LeafletTileLayerView",
            "attribution": "&copy; <a href=\"https://www.openstreetmap.org/copyright\">OpenStreetMap</a> contributors",
            "base": true,
            "bottom": true,
            "bounds": null,
            "detect_retina": false,
            "loading": false,
            "max_native_zoom": null,
            "max_zoom": 19,
            "min_native_zoom": null,
            "min_zoom": 1,
            "name": "OpenStreetMap.Mapnik",
            "no_wrap": false,
            "opacity": 1,
            "options": [
              "attribution",
              "bounds",
              "detect_retina",
              "max_native_zoom",
              "max_zoom",
              "min_native_zoom",
              "min_zoom",
              "no_wrap",
              "tile_size",
              "tms",
              "zoom_offset"
            ],
            "pane": "",
            "popup": null,
            "popup_max_height": null,
            "popup_max_width": 300,
            "popup_min_width": 50,
            "show_loading": false,
            "tile_size": 256,
            "tms": false,
            "url": "https://a.tile.openstreetmap.org/{z}/{x}/{y}.png",
            "visible": true,
            "zoom_offset": 0
          }
        },
        "8ff876be3c544029b7611738c925c067": {
          "model_module": "jupyter-leaflet",
          "model_name": "LeafletTileLayerModel",
          "model_module_version": "^0.17",
          "state": {
            "_model_module": "jupyter-leaflet",
            "_model_module_version": "^0.17",
            "_model_name": "LeafletTileLayerModel",
            "_view_count": null,
            "_view_module": "jupyter-leaflet",
            "_view_module_version": "^0.17",
            "_view_name": "LeafletTileLayerView",
            "attribution": "Google",
            "base": false,
            "bottom": true,
            "bounds": null,
            "detect_retina": false,
            "loading": false,
            "max_native_zoom": null,
            "max_zoom": 22,
            "min_native_zoom": null,
            "min_zoom": 0,
            "name": "Google Maps",
            "no_wrap": false,
            "opacity": 1,
            "options": [
              "attribution",
              "bounds",
              "detect_retina",
              "max_native_zoom",
              "max_zoom",
              "min_native_zoom",
              "min_zoom",
              "no_wrap",
              "tile_size",
              "tms",
              "zoom_offset"
            ],
            "pane": "",
            "popup": null,
            "popup_max_height": null,
            "popup_max_width": 300,
            "popup_min_width": 50,
            "show_loading": false,
            "tile_size": 256,
            "tms": false,
            "url": "https://mt1.google.com/vt/lyrs=m&x={x}&y={y}&z={z}",
            "visible": false,
            "zoom_offset": 0
          }
        },
        "fa9602dfe46d4ca2bec4df0908348886": {
          "model_module": "jupyter-leaflet",
          "model_name": "LeafletTileLayerModel",
          "model_module_version": "^0.17",
          "state": {
            "_model_module": "jupyter-leaflet",
            "_model_module_version": "^0.17",
            "_model_name": "LeafletTileLayerModel",
            "_view_count": null,
            "_view_module": "jupyter-leaflet",
            "_view_module_version": "^0.17",
            "_view_name": "LeafletTileLayerView",
            "attribution": "Google Earth Engine",
            "base": false,
            "bottom": true,
            "bounds": null,
            "detect_retina": false,
            "loading": false,
            "max_native_zoom": null,
            "max_zoom": 24,
            "min_native_zoom": null,
            "min_zoom": 0,
            "name": "Layer 3",
            "no_wrap": false,
            "opacity": 1,
            "options": [
              "attribution",
              "bounds",
              "detect_retina",
              "max_native_zoom",
              "max_zoom",
              "min_native_zoom",
              "min_zoom",
              "no_wrap",
              "tile_size",
              "tms",
              "zoom_offset"
            ],
            "pane": "",
            "popup": null,
            "popup_max_height": null,
            "popup_max_width": 300,
            "popup_min_width": 50,
            "show_loading": false,
            "tile_size": 256,
            "tms": false,
            "url": "https://earthengine.googleapis.com/v1alpha/projects/earthengine-legacy/maps/8a6052c5577039938d1dabc079a2a640-35c3aa36557e1bb6808734fa17561388/tiles/{z}/{x}/{y}",
            "visible": true,
            "zoom_offset": 0
          }
        },
        "f2e1143912904cf985d86b182fb362a1": {
          "model_module": "@jupyter-widgets/base",
          "model_name": "LayoutModel",
          "model_module_version": "1.2.0",
          "state": {
            "_model_module": "@jupyter-widgets/base",
            "_model_module_version": "1.2.0",
            "_model_name": "LayoutModel",
            "_view_count": null,
            "_view_module": "@jupyter-widgets/base",
            "_view_module_version": "1.2.0",
            "_view_name": "LayoutView",
            "align_content": null,
            "align_items": null,
            "align_self": null,
            "border": null,
            "bottom": null,
            "display": null,
            "flex": null,
            "flex_flow": null,
            "grid_area": null,
            "grid_auto_columns": null,
            "grid_auto_flow": null,
            "grid_auto_rows": null,
            "grid_column": null,
            "grid_gap": null,
            "grid_row": null,
            "grid_template_areas": null,
            "grid_template_columns": null,
            "grid_template_rows": null,
            "height": "600px",
            "justify_content": null,
            "justify_items": null,
            "left": null,
            "margin": null,
            "max_height": null,
            "max_width": null,
            "min_height": null,
            "min_width": null,
            "object_fit": null,
            "object_position": null,
            "order": null,
            "overflow": null,
            "overflow_x": null,
            "overflow_y": null,
            "padding": null,
            "right": null,
            "top": null,
            "visibility": null,
            "width": null
          }
        },
        "d56f4ed59fc4408083249a2e5618da4b": {
          "model_module": "jupyter-leaflet",
          "model_name": "LeafletMapStyleModel",
          "model_module_version": "^0.17",
          "state": {
            "_model_module": "jupyter-leaflet",
            "_model_module_version": "^0.17",
            "_model_name": "LeafletMapStyleModel",
            "_view_count": null,
            "_view_module": "@jupyter-widgets/base",
            "_view_module_version": "1.2.0",
            "_view_name": "StyleView",
            "cursor": "grab"
          }
        },
        "02f276fa3202419dbffff00aadcaa0fe": {
          "model_module": "@jupyter-widgets/controls",
          "model_name": "HBoxModel",
          "model_module_version": "1.5.0",
          "state": {
            "_dom_classes": [],
            "_model_module": "@jupyter-widgets/controls",
            "_model_module_version": "1.5.0",
            "_model_name": "HBoxModel",
            "_view_count": null,
            "_view_module": "@jupyter-widgets/controls",
            "_view_module_version": "1.5.0",
            "_view_name": "HBoxView",
            "box_style": "",
            "children": [
              "IPY_MODEL_5c1398fd402d443e957cf08129156d95"
            ],
            "layout": "IPY_MODEL_59fe300a60bc42d885b39899ee4bf8b8"
          }
        },
        "960f57b9a61e45ffa07320efd12bd8e6": {
          "model_module": "@jupyter-widgets/controls",
          "model_name": "VBoxModel",
          "model_module_version": "1.5.0",
          "state": {
            "_dom_classes": [],
            "_model_module": "@jupyter-widgets/controls",
            "_model_module_version": "1.5.0",
            "_model_name": "VBoxModel",
            "_view_count": null,
            "_view_module": "@jupyter-widgets/controls",
            "_view_module_version": "1.5.0",
            "_view_name": "VBoxView",
            "box_style": "",
            "children": [
              "IPY_MODEL_5b5e5c99c0814cf1bae1f472b9eae242"
            ],
            "layout": "IPY_MODEL_9c5c49a9159144039c16dc270d07457e"
          }
        },
        "5c1398fd402d443e957cf08129156d95": {
          "model_module": "@jupyter-widgets/controls",
          "model_name": "ToggleButtonModel",
          "model_module_version": "1.5.0",
          "state": {
            "_dom_classes": [],
            "_model_module": "@jupyter-widgets/controls",
            "_model_module_version": "1.5.0",
            "_model_name": "ToggleButtonModel",
            "_view_count": null,
            "_view_module": "@jupyter-widgets/controls",
            "_view_module_version": "1.5.0",
            "_view_name": "ToggleButtonView",
            "button_style": "",
            "description": "",
            "description_tooltip": null,
            "disabled": false,
            "icon": "globe",
            "layout": "IPY_MODEL_391b156e0cd64c8db68d92792a3146f0",
            "style": "IPY_MODEL_8c1e540c4bb04a5595ff71290172d238",
            "tooltip": "Search location/data",
            "value": false
          }
        },
        "59fe300a60bc42d885b39899ee4bf8b8": {
          "model_module": "@jupyter-widgets/base",
          "model_name": "LayoutModel",
          "model_module_version": "1.2.0",
          "state": {
            "_model_module": "@jupyter-widgets/base",
            "_model_module_version": "1.2.0",
            "_model_name": "LayoutModel",
            "_view_count": null,
            "_view_module": "@jupyter-widgets/base",
            "_view_module_version": "1.2.0",
            "_view_name": "LayoutView",
            "align_content": null,
            "align_items": null,
            "align_self": null,
            "border": null,
            "bottom": null,
            "display": null,
            "flex": null,
            "flex_flow": null,
            "grid_area": null,
            "grid_auto_columns": null,
            "grid_auto_flow": null,
            "grid_auto_rows": null,
            "grid_column": null,
            "grid_gap": null,
            "grid_row": null,
            "grid_template_areas": null,
            "grid_template_columns": null,
            "grid_template_rows": null,
            "height": null,
            "justify_content": null,
            "justify_items": null,
            "left": null,
            "margin": null,
            "max_height": null,
            "max_width": null,
            "min_height": null,
            "min_width": null,
            "object_fit": null,
            "object_position": null,
            "order": null,
            "overflow": null,
            "overflow_x": null,
            "overflow_y": null,
            "padding": null,
            "right": null,
            "top": null,
            "visibility": null,
            "width": null
          }
        },
        "5b5e5c99c0814cf1bae1f472b9eae242": {
          "model_module": "@jupyter-widgets/controls",
          "model_name": "ToggleButtonModel",
          "model_module_version": "1.5.0",
          "state": {
            "_dom_classes": [],
            "_model_module": "@jupyter-widgets/controls",
            "_model_module_version": "1.5.0",
            "_model_name": "ToggleButtonModel",
            "_view_count": null,
            "_view_module": "@jupyter-widgets/controls",
            "_view_module_version": "1.5.0",
            "_view_name": "ToggleButtonView",
            "button_style": "",
            "description": "",
            "description_tooltip": null,
            "disabled": false,
            "icon": "wrench",
            "layout": "IPY_MODEL_70c9e0a521ab442c93a7f19bef2c4a2b",
            "style": "IPY_MODEL_16a7d23ec65a44d894f192152287aea5",
            "tooltip": "Toolbar",
            "value": false
          }
        },
        "9c5c49a9159144039c16dc270d07457e": {
          "model_module": "@jupyter-widgets/base",
          "model_name": "LayoutModel",
          "model_module_version": "1.2.0",
          "state": {
            "_model_module": "@jupyter-widgets/base",
            "_model_module_version": "1.2.0",
            "_model_name": "LayoutModel",
            "_view_count": null,
            "_view_module": "@jupyter-widgets/base",
            "_view_module_version": "1.2.0",
            "_view_name": "LayoutView",
            "align_content": null,
            "align_items": null,
            "align_self": null,
            "border": null,
            "bottom": null,
            "display": null,
            "flex": null,
            "flex_flow": null,
            "grid_area": null,
            "grid_auto_columns": null,
            "grid_auto_flow": null,
            "grid_auto_rows": null,
            "grid_column": null,
            "grid_gap": null,
            "grid_row": null,
            "grid_template_areas": null,
            "grid_template_columns": null,
            "grid_template_rows": null,
            "height": null,
            "justify_content": null,
            "justify_items": null,
            "left": null,
            "margin": null,
            "max_height": null,
            "max_width": null,
            "min_height": null,
            "min_width": null,
            "object_fit": null,
            "object_position": null,
            "order": null,
            "overflow": null,
            "overflow_x": null,
            "overflow_y": null,
            "padding": null,
            "right": null,
            "top": null,
            "visibility": null,
            "width": null
          }
        },
        "391b156e0cd64c8db68d92792a3146f0": {
          "model_module": "@jupyter-widgets/base",
          "model_name": "LayoutModel",
          "model_module_version": "1.2.0",
          "state": {
            "_model_module": "@jupyter-widgets/base",
            "_model_module_version": "1.2.0",
            "_model_name": "LayoutModel",
            "_view_count": null,
            "_view_module": "@jupyter-widgets/base",
            "_view_module_version": "1.2.0",
            "_view_name": "LayoutView",
            "align_content": null,
            "align_items": null,
            "align_self": null,
            "border": null,
            "bottom": null,
            "display": null,
            "flex": null,
            "flex_flow": null,
            "grid_area": null,
            "grid_auto_columns": null,
            "grid_auto_flow": null,
            "grid_auto_rows": null,
            "grid_column": null,
            "grid_gap": null,
            "grid_row": null,
            "grid_template_areas": null,
            "grid_template_columns": null,
            "grid_template_rows": null,
            "height": "28px",
            "justify_content": null,
            "justify_items": null,
            "left": null,
            "margin": null,
            "max_height": null,
            "max_width": null,
            "min_height": null,
            "min_width": null,
            "object_fit": null,
            "object_position": null,
            "order": null,
            "overflow": null,
            "overflow_x": null,
            "overflow_y": null,
            "padding": "0px 0px 0px 4px",
            "right": null,
            "top": null,
            "visibility": null,
            "width": "28px"
          }
        },
        "8c1e540c4bb04a5595ff71290172d238": {
          "model_module": "@jupyter-widgets/controls",
          "model_name": "DescriptionStyleModel",
          "model_module_version": "1.5.0",
          "state": {
            "_model_module": "@jupyter-widgets/controls",
            "_model_module_version": "1.5.0",
            "_model_name": "DescriptionStyleModel",
            "_view_count": null,
            "_view_module": "@jupyter-widgets/base",
            "_view_module_version": "1.2.0",
            "_view_name": "StyleView",
            "description_width": ""
          }
        },
        "70c9e0a521ab442c93a7f19bef2c4a2b": {
          "model_module": "@jupyter-widgets/base",
          "model_name": "LayoutModel",
          "model_module_version": "1.2.0",
          "state": {
            "_model_module": "@jupyter-widgets/base",
            "_model_module_version": "1.2.0",
            "_model_name": "LayoutModel",
            "_view_count": null,
            "_view_module": "@jupyter-widgets/base",
            "_view_module_version": "1.2.0",
            "_view_name": "LayoutView",
            "align_content": null,
            "align_items": null,
            "align_self": null,
            "border": null,
            "bottom": null,
            "display": null,
            "flex": null,
            "flex_flow": null,
            "grid_area": null,
            "grid_auto_columns": null,
            "grid_auto_flow": null,
            "grid_auto_rows": null,
            "grid_column": null,
            "grid_gap": null,
            "grid_row": null,
            "grid_template_areas": null,
            "grid_template_columns": null,
            "grid_template_rows": null,
            "height": "28px",
            "justify_content": null,
            "justify_items": null,
            "left": null,
            "margin": null,
            "max_height": null,
            "max_width": null,
            "min_height": null,
            "min_width": null,
            "object_fit": null,
            "object_position": null,
            "order": null,
            "overflow": null,
            "overflow_x": null,
            "overflow_y": null,
            "padding": "0px 0px 0px 4px",
            "right": null,
            "top": null,
            "visibility": null,
            "width": "28px"
          }
        },
        "16a7d23ec65a44d894f192152287aea5": {
          "model_module": "@jupyter-widgets/controls",
          "model_name": "DescriptionStyleModel",
          "model_module_version": "1.5.0",
          "state": {
            "_model_module": "@jupyter-widgets/controls",
            "_model_module_version": "1.5.0",
            "_model_name": "DescriptionStyleModel",
            "_view_count": null,
            "_view_module": "@jupyter-widgets/base",
            "_view_module_version": "1.2.0",
            "_view_name": "StyleView",
            "description_width": ""
          }
        },
        "973f9bdafdbc4841a6fc7707bed29182": {
          "model_module": "jupyter-leaflet",
          "model_name": "LeafletMapModel",
          "model_module_version": "^0.17",
          "state": {
            "_dom_classes": [],
            "_model_module": "jupyter-leaflet",
            "_model_module_version": "^0.17",
            "_model_name": "LeafletMapModel",
            "_view_count": null,
            "_view_module": "jupyter-leaflet",
            "_view_module_version": "^0.17",
            "_view_name": "LeafletMapView",
            "bottom": 548790,
            "bounce_at_zoom_limits": true,
            "box_zoom": true,
            "center": [
              -8.28,
              -38.7617
            ],
            "close_popup_on_click": true,
            "controls": [
              "IPY_MODEL_5d39ee9d4d20402cb813f36b9774f781",
              "IPY_MODEL_1fa05dd257e54899bc08c9063d520a06",
              "IPY_MODEL_d69c845a0e05451d89b5e9daa9d6a7a5",
              "IPY_MODEL_137c4f0fa2fb472fb30e4331a9801442",
              "IPY_MODEL_31b7b748321040d5af5bc4beea40dbc9",
              "IPY_MODEL_7ea09154c17b4e1e9cc982dabd6af508",
              "IPY_MODEL_25251ae930c94569a02ad6c634769f73",
              "IPY_MODEL_be3e879e1bf54612b7cfe56c89f76867",
              "IPY_MODEL_f6e160bbef1c487d9d86d1bc450f5483"
            ],
            "crs": {
              "name": "EPSG3857",
              "custom": false
            },
            "default_style": "IPY_MODEL_c1b4bc8e1a104c8a96c2367663c358db",
            "double_click_zoom": true,
            "dragging": true,
            "dragging_style": "IPY_MODEL_225a4cdfb00d4c5883e50a813e32cd78",
            "east": -38.41712951660157,
            "fullscreen": false,
            "inertia": true,
            "inertia_deceleration": 3000,
            "inertia_max_speed": 1500,
            "interpolation": "bilinear",
            "keyboard": true,
            "keyboard_pan_offset": 80,
            "keyboard_zoom_offset": 1,
            "layers": [
              "IPY_MODEL_57f801edbbe34497838db33215f82fd1",
              "IPY_MODEL_d74bc4eb3c4f47718fdc8be70d8c5d75",
              "IPY_MODEL_7df589dbb903417690b041cd5324efbb"
            ],
            "layout": "IPY_MODEL_059fcbf9a6ed4d3798555582e70aa154",
            "left": 410382,
            "max_zoom": 24,
            "min_zoom": null,
            "modisdate": "2022-10-07",
            "north": -8.178188247073475,
            "options": [
              "bounce_at_zoom_limits",
              "box_zoom",
              "center",
              "close_popup_on_click",
              "double_click_zoom",
              "dragging",
              "fullscreen",
              "inertia",
              "inertia_deceleration",
              "inertia_max_speed",
              "interpolation",
              "keyboard",
              "keyboard_pan_offset",
              "keyboard_zoom_offset",
              "max_zoom",
              "min_zoom",
              "prefer_canvas",
              "scroll_wheel_zoom",
              "tap",
              "tap_tolerance",
              "touch_zoom",
              "world_copy_jump",
              "zoom",
              "zoom_animation_threshold",
              "zoom_delta",
              "zoom_snap"
            ],
            "panes": {},
            "prefer_canvas": false,
            "right": 412390,
            "scroll_wheel_zoom": true,
            "south": -8.382034476293219,
            "style": "IPY_MODEL_36f55d33b1ac4440a5d2adf1eacc9758",
            "tap": true,
            "tap_tolerance": 15,
            "top": 548190,
            "touch_zoom": true,
            "west": -39.10652160644532,
            "window_url": "https://o001uym1yld-496ff2e9c6d22116-0-colab.googleusercontent.com/outputframe.html?vrz=colab-20221006-060055-RC01_479328028",
            "world_copy_jump": false,
            "zoom": 12,
            "zoom_animation_threshold": 4,
            "zoom_delta": 1,
            "zoom_snap": 1
          }
        },
        "5d39ee9d4d20402cb813f36b9774f781": {
          "model_module": "jupyter-leaflet",
          "model_name": "LeafletWidgetControlModel",
          "model_module_version": "^0.17",
          "state": {
            "_model_module": "jupyter-leaflet",
            "_model_module_version": "^0.17",
            "_model_name": "LeafletWidgetControlModel",
            "_view_count": null,
            "_view_module": "jupyter-leaflet",
            "_view_module_version": "^0.17",
            "_view_name": "LeafletWidgetControlView",
            "max_height": null,
            "max_width": null,
            "min_height": null,
            "min_width": null,
            "options": [
              "position",
              "transparent_bg"
            ],
            "position": "topleft",
            "transparent_bg": false,
            "widget": "IPY_MODEL_eba22558dd69486b8ca40eb216aea99f"
          }
        },
        "1fa05dd257e54899bc08c9063d520a06": {
          "model_module": "jupyter-leaflet",
          "model_name": "LeafletZoomControlModel",
          "model_module_version": "^0.17",
          "state": {
            "_model_module": "jupyter-leaflet",
            "_model_module_version": "^0.17",
            "_model_name": "LeafletZoomControlModel",
            "_view_count": null,
            "_view_module": "jupyter-leaflet",
            "_view_module_version": "^0.17",
            "_view_name": "LeafletZoomControlView",
            "options": [
              "position",
              "zoom_in_text",
              "zoom_in_title",
              "zoom_out_text",
              "zoom_out_title"
            ],
            "position": "topleft",
            "zoom_in_text": "+",
            "zoom_in_title": "Zoom in",
            "zoom_out_text": "-",
            "zoom_out_title": "Zoom out"
          }
        },
        "d69c845a0e05451d89b5e9daa9d6a7a5": {
          "model_module": "jupyter-leaflet",
          "model_name": "LeafletScaleControlModel",
          "model_module_version": "^0.17",
          "state": {
            "_model_module": "jupyter-leaflet",
            "_model_module_version": "^0.17",
            "_model_name": "LeafletScaleControlModel",
            "_view_count": null,
            "_view_module": "jupyter-leaflet",
            "_view_module_version": "^0.17",
            "_view_name": "LeafletScaleControlView",
            "imperial": true,
            "max_width": 100,
            "metric": true,
            "options": [
              "imperial",
              "max_width",
              "metric",
              "position",
              "update_when_idle"
            ],
            "position": "bottomleft",
            "update_when_idle": false
          }
        },
        "137c4f0fa2fb472fb30e4331a9801442": {
          "model_module": "jupyter-leaflet",
          "model_name": "LeafletFullScreenControlModel",
          "model_module_version": "^0.17",
          "state": {
            "_model_module": "jupyter-leaflet",
            "_model_module_version": "^0.17",
            "_model_name": "LeafletFullScreenControlModel",
            "_view_count": null,
            "_view_module": "jupyter-leaflet",
            "_view_module_version": "^0.17",
            "_view_name": "LeafletFullScreenControlView",
            "options": [
              "position"
            ],
            "position": "topleft"
          }
        },
        "31b7b748321040d5af5bc4beea40dbc9": {
          "model_module": "jupyter-leaflet",
          "model_name": "LeafletMeasureControlModel",
          "model_module_version": "^0.17",
          "state": {
            "_custom_units": {},
            "_model_module": "jupyter-leaflet",
            "_model_module_version": "^0.17",
            "_model_name": "LeafletMeasureControlModel",
            "_view_count": null,
            "_view_module": "jupyter-leaflet",
            "_view_module_version": "^0.17",
            "_view_name": "LeafletMeasureControlView",
            "active_color": "orange",
            "capture_z_index": 10000,
            "completed_color": "#C8F2BE",
            "options": [
              "active_color",
              "capture_z_index",
              "completed_color",
              "popup_options",
              "position",
              "primary_area_unit",
              "primary_length_unit",
              "secondary_area_unit",
              "secondary_length_unit"
            ],
            "popup_options": {
              "className": "leaflet-measure-resultpopup",
              "autoPanPadding": [
                10,
                10
              ]
            },
            "position": "bottomleft",
            "primary_area_unit": "acres",
            "primary_length_unit": "kilometers",
            "secondary_area_unit": null,
            "secondary_length_unit": null
          }
        },
        "7ea09154c17b4e1e9cc982dabd6af508": {
          "model_module": "jupyter-leaflet",
          "model_name": "LeafletAttributionControlModel",
          "model_module_version": "^0.17",
          "state": {
            "_model_module": "jupyter-leaflet",
            "_model_module_version": "^0.17",
            "_model_name": "LeafletAttributionControlModel",
            "_view_count": null,
            "_view_module": "jupyter-leaflet",
            "_view_module_version": "^0.17",
            "_view_name": "LeafletAttributionControlView",
            "options": [
              "position",
              "prefix"
            ],
            "position": "bottomright",
            "prefix": "ipyleaflet"
          }
        },
        "25251ae930c94569a02ad6c634769f73": {
          "model_module": "jupyter-leaflet",
          "model_name": "LeafletDrawControlModel",
          "model_module_version": "^0.17",
          "state": {
            "_model_module": "jupyter-leaflet",
            "_model_module_version": "^0.17",
            "_model_name": "LeafletDrawControlModel",
            "_view_count": null,
            "_view_module": "jupyter-leaflet",
            "_view_module_version": "^0.17",
            "_view_name": "LeafletDrawControlView",
            "circle": {
              "shapeOptions": {
                "color": "#3388ff"
              }
            },
            "circlemarker": {},
            "data": [],
            "edit": true,
            "marker": {
              "shapeOptions": {
                "color": "#3388ff"
              }
            },
            "options": [
              "position"
            ],
            "polygon": {
              "shapeOptions": {}
            },
            "polyline": {
              "shapeOptions": {}
            },
            "position": "topleft",
            "rectangle": {
              "shapeOptions": {
                "color": "#3388ff"
              }
            },
            "remove": true
          }
        },
        "be3e879e1bf54612b7cfe56c89f76867": {
          "model_module": "jupyter-leaflet",
          "model_name": "LeafletWidgetControlModel",
          "model_module_version": "^0.17",
          "state": {
            "_model_module": "jupyter-leaflet",
            "_model_module_version": "^0.17",
            "_model_name": "LeafletWidgetControlModel",
            "_view_count": null,
            "_view_module": "jupyter-leaflet",
            "_view_module_version": "^0.17",
            "_view_name": "LeafletWidgetControlView",
            "max_height": null,
            "max_width": null,
            "min_height": null,
            "min_width": null,
            "options": [
              "position",
              "transparent_bg"
            ],
            "position": "topright",
            "transparent_bg": false,
            "widget": "IPY_MODEL_b27de12f469f40d4ae8698953339afdd"
          }
        },
        "f6e160bbef1c487d9d86d1bc450f5483": {
          "model_module": "jupyter-leaflet",
          "model_name": "LeafletWidgetControlModel",
          "model_module_version": "^0.17",
          "state": {
            "_model_module": "jupyter-leaflet",
            "_model_module_version": "^0.17",
            "_model_name": "LeafletWidgetControlModel",
            "_view_count": null,
            "_view_module": "jupyter-leaflet",
            "_view_module_version": "^0.17",
            "_view_name": "LeafletWidgetControlView",
            "max_height": null,
            "max_width": null,
            "min_height": null,
            "min_width": null,
            "options": [
              "position",
              "transparent_bg"
            ],
            "position": "bottomright",
            "transparent_bg": false,
            "widget": "IPY_MODEL_c5c271086b5a4fc9a4591a24ed68b9ec"
          }
        },
        "c1b4bc8e1a104c8a96c2367663c358db": {
          "model_module": "jupyter-leaflet",
          "model_name": "LeafletMapStyleModel",
          "model_module_version": "^0.17",
          "state": {
            "_model_module": "jupyter-leaflet",
            "_model_module_version": "^0.17",
            "_model_name": "LeafletMapStyleModel",
            "_view_count": null,
            "_view_module": "@jupyter-widgets/base",
            "_view_module_version": "1.2.0",
            "_view_name": "StyleView",
            "cursor": "grab"
          }
        },
        "225a4cdfb00d4c5883e50a813e32cd78": {
          "model_module": "jupyter-leaflet",
          "model_name": "LeafletMapStyleModel",
          "model_module_version": "^0.17",
          "state": {
            "_model_module": "jupyter-leaflet",
            "_model_module_version": "^0.17",
            "_model_name": "LeafletMapStyleModel",
            "_view_count": null,
            "_view_module": "@jupyter-widgets/base",
            "_view_module_version": "1.2.0",
            "_view_name": "StyleView",
            "cursor": "move"
          }
        },
        "57f801edbbe34497838db33215f82fd1": {
          "model_module": "jupyter-leaflet",
          "model_name": "LeafletTileLayerModel",
          "model_module_version": "^0.17",
          "state": {
            "_model_module": "jupyter-leaflet",
            "_model_module_version": "^0.17",
            "_model_name": "LeafletTileLayerModel",
            "_view_count": null,
            "_view_module": "jupyter-leaflet",
            "_view_module_version": "^0.17",
            "_view_name": "LeafletTileLayerView",
            "attribution": "&copy; <a href=\"https://www.openstreetmap.org/copyright\">OpenStreetMap</a> contributors",
            "base": true,
            "bottom": true,
            "bounds": null,
            "detect_retina": false,
            "loading": false,
            "max_native_zoom": null,
            "max_zoom": 19,
            "min_native_zoom": null,
            "min_zoom": 1,
            "name": "OpenStreetMap.Mapnik",
            "no_wrap": false,
            "opacity": 1,
            "options": [
              "attribution",
              "bounds",
              "detect_retina",
              "max_native_zoom",
              "max_zoom",
              "min_native_zoom",
              "min_zoom",
              "no_wrap",
              "tile_size",
              "tms",
              "zoom_offset"
            ],
            "pane": "",
            "popup": null,
            "popup_max_height": null,
            "popup_max_width": 300,
            "popup_min_width": 50,
            "show_loading": false,
            "tile_size": 256,
            "tms": false,
            "url": "https://tile.openstreetmap.org/{z}/{x}/{y}.png",
            "visible": true,
            "zoom_offset": 0
          }
        },
        "d74bc4eb3c4f47718fdc8be70d8c5d75": {
          "model_module": "jupyter-leaflet",
          "model_name": "LeafletTileLayerModel",
          "model_module_version": "^0.17",
          "state": {
            "_model_module": "jupyter-leaflet",
            "_model_module_version": "^0.17",
            "_model_name": "LeafletTileLayerModel",
            "_view_count": null,
            "_view_module": "jupyter-leaflet",
            "_view_module_version": "^0.17",
            "_view_name": "LeafletTileLayerView",
            "attribution": "Google",
            "base": false,
            "bottom": true,
            "bounds": null,
            "detect_retina": false,
            "loading": false,
            "max_native_zoom": null,
            "max_zoom": 22,
            "min_native_zoom": null,
            "min_zoom": 0,
            "name": "Google Maps",
            "no_wrap": false,
            "opacity": 1,
            "options": [
              "attribution",
              "bounds",
              "detect_retina",
              "max_native_zoom",
              "max_zoom",
              "min_native_zoom",
              "min_zoom",
              "no_wrap",
              "tile_size",
              "tms",
              "zoom_offset"
            ],
            "pane": "",
            "popup": null,
            "popup_max_height": null,
            "popup_max_width": 300,
            "popup_min_width": 50,
            "show_loading": false,
            "tile_size": 256,
            "tms": false,
            "url": "https://mt1.google.com/vt/lyrs=m&x={x}&y={y}&z={z}",
            "visible": true,
            "zoom_offset": 0
          }
        },
        "7df589dbb903417690b041cd5324efbb": {
          "model_module": "jupyter-leaflet",
          "model_name": "LeafletTileLayerModel",
          "model_module_version": "^0.17",
          "state": {
            "_model_module": "jupyter-leaflet",
            "_model_module_version": "^0.17",
            "_model_name": "LeafletTileLayerModel",
            "_view_count": null,
            "_view_module": "jupyter-leaflet",
            "_view_module_version": "^0.17",
            "_view_name": "LeafletTileLayerView",
            "attribution": "Google Earth Engine",
            "base": false,
            "bottom": true,
            "bounds": null,
            "detect_retina": false,
            "loading": false,
            "max_native_zoom": null,
            "max_zoom": 24,
            "min_native_zoom": null,
            "min_zoom": 0,
            "name": "dNBR",
            "no_wrap": false,
            "opacity": 1,
            "options": [
              "attribution",
              "bounds",
              "detect_retina",
              "max_native_zoom",
              "max_zoom",
              "min_native_zoom",
              "min_zoom",
              "no_wrap",
              "tile_size",
              "tms",
              "zoom_offset"
            ],
            "pane": "",
            "popup": null,
            "popup_max_height": null,
            "popup_max_width": 300,
            "popup_min_width": 50,
            "show_loading": false,
            "tile_size": 256,
            "tms": false,
            "url": "https://earthengine.googleapis.com/v1alpha/projects/earthengine-legacy/maps/19d212f28cca8e41b4af4e1ca5ea8048-d81b12530cef213c6f64b334d466a2fe/tiles/{z}/{x}/{y}",
            "visible": true,
            "zoom_offset": 0
          }
        },
        "059fcbf9a6ed4d3798555582e70aa154": {
          "model_module": "@jupyter-widgets/base",
          "model_name": "LayoutModel",
          "model_module_version": "1.2.0",
          "state": {
            "_model_module": "@jupyter-widgets/base",
            "_model_module_version": "1.2.0",
            "_model_name": "LayoutModel",
            "_view_count": null,
            "_view_module": "@jupyter-widgets/base",
            "_view_module_version": "1.2.0",
            "_view_name": "LayoutView",
            "align_content": null,
            "align_items": null,
            "align_self": null,
            "border": null,
            "bottom": null,
            "display": null,
            "flex": null,
            "flex_flow": null,
            "grid_area": null,
            "grid_auto_columns": null,
            "grid_auto_flow": null,
            "grid_auto_rows": null,
            "grid_column": null,
            "grid_gap": null,
            "grid_row": null,
            "grid_template_areas": null,
            "grid_template_columns": null,
            "grid_template_rows": null,
            "height": "600px",
            "justify_content": null,
            "justify_items": null,
            "left": null,
            "margin": null,
            "max_height": null,
            "max_width": null,
            "min_height": null,
            "min_width": null,
            "object_fit": null,
            "object_position": null,
            "order": null,
            "overflow": null,
            "overflow_x": null,
            "overflow_y": null,
            "padding": null,
            "right": null,
            "top": null,
            "visibility": null,
            "width": null
          }
        },
        "36f55d33b1ac4440a5d2adf1eacc9758": {
          "model_module": "jupyter-leaflet",
          "model_name": "LeafletMapStyleModel",
          "model_module_version": "^0.17",
          "state": {
            "_model_module": "jupyter-leaflet",
            "_model_module_version": "^0.17",
            "_model_name": "LeafletMapStyleModel",
            "_view_count": null,
            "_view_module": "@jupyter-widgets/base",
            "_view_module_version": "1.2.0",
            "_view_name": "StyleView",
            "cursor": "grab"
          }
        },
        "eba22558dd69486b8ca40eb216aea99f": {
          "model_module": "@jupyter-widgets/controls",
          "model_name": "HBoxModel",
          "model_module_version": "1.5.0",
          "state": {
            "_dom_classes": [],
            "_model_module": "@jupyter-widgets/controls",
            "_model_module_version": "1.5.0",
            "_model_name": "HBoxModel",
            "_view_count": null,
            "_view_module": "@jupyter-widgets/controls",
            "_view_module_version": "1.5.0",
            "_view_name": "HBoxView",
            "box_style": "",
            "children": [
              "IPY_MODEL_bd41e1a216a541839fe3df8b8b1fb82f"
            ],
            "layout": "IPY_MODEL_22b43a31e43e4fca96ef831ae2b7540b"
          }
        },
        "b27de12f469f40d4ae8698953339afdd": {
          "model_module": "@jupyter-widgets/controls",
          "model_name": "VBoxModel",
          "model_module_version": "1.5.0",
          "state": {
            "_dom_classes": [],
            "_model_module": "@jupyter-widgets/controls",
            "_model_module_version": "1.5.0",
            "_model_name": "VBoxModel",
            "_view_count": null,
            "_view_module": "@jupyter-widgets/controls",
            "_view_module_version": "1.5.0",
            "_view_name": "VBoxView",
            "box_style": "",
            "children": [
              "IPY_MODEL_b99ad788d5b348da90cd78be4e19941b"
            ],
            "layout": "IPY_MODEL_3000d8b24bc944c09a710081a2b64343"
          }
        },
        "c5c271086b5a4fc9a4591a24ed68b9ec": {
          "model_module": "@jupyter-widgets/output",
          "model_name": "OutputModel",
          "model_module_version": "1.0.0",
          "state": {
            "_dom_classes": [],
            "_model_module": "@jupyter-widgets/output",
            "_model_module_version": "1.0.0",
            "_model_name": "OutputModel",
            "_view_count": null,
            "_view_module": "@jupyter-widgets/output",
            "_view_module_version": "1.0.0",
            "_view_name": "OutputView",
            "layout": "IPY_MODEL_59bd5a10d76c4c0b933fb6705bff216c",
            "msg_id": "",
            "outputs": [
              {
                "output_type": "display_data",
                "data": {
                  "text/plain": "<Figure size 600x40 with 1 Axes>",
                  "image/png": "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\n"
                },
                "metadata": {
                  "image/png": {
                    "width": 600,
                    "height": 40
                  }
                }
              }
            ]
          }
        },
        "bd41e1a216a541839fe3df8b8b1fb82f": {
          "model_module": "@jupyter-widgets/controls",
          "model_name": "ToggleButtonModel",
          "model_module_version": "1.5.0",
          "state": {
            "_dom_classes": [],
            "_model_module": "@jupyter-widgets/controls",
            "_model_module_version": "1.5.0",
            "_model_name": "ToggleButtonModel",
            "_view_count": null,
            "_view_module": "@jupyter-widgets/controls",
            "_view_module_version": "1.5.0",
            "_view_name": "ToggleButtonView",
            "button_style": "",
            "description": "",
            "description_tooltip": null,
            "disabled": false,
            "icon": "globe",
            "layout": "IPY_MODEL_932c27568907495fb75f1ff10fe16fed",
            "style": "IPY_MODEL_24984461ee6049f49e4e6c172ec78ce5",
            "tooltip": "Search location/data",
            "value": false
          }
        },
        "22b43a31e43e4fca96ef831ae2b7540b": {
          "model_module": "@jupyter-widgets/base",
          "model_name": "LayoutModel",
          "model_module_version": "1.2.0",
          "state": {
            "_model_module": "@jupyter-widgets/base",
            "_model_module_version": "1.2.0",
            "_model_name": "LayoutModel",
            "_view_count": null,
            "_view_module": "@jupyter-widgets/base",
            "_view_module_version": "1.2.0",
            "_view_name": "LayoutView",
            "align_content": null,
            "align_items": null,
            "align_self": null,
            "border": null,
            "bottom": null,
            "display": null,
            "flex": null,
            "flex_flow": null,
            "grid_area": null,
            "grid_auto_columns": null,
            "grid_auto_flow": null,
            "grid_auto_rows": null,
            "grid_column": null,
            "grid_gap": null,
            "grid_row": null,
            "grid_template_areas": null,
            "grid_template_columns": null,
            "grid_template_rows": null,
            "height": null,
            "justify_content": null,
            "justify_items": null,
            "left": null,
            "margin": null,
            "max_height": null,
            "max_width": null,
            "min_height": null,
            "min_width": null,
            "object_fit": null,
            "object_position": null,
            "order": null,
            "overflow": null,
            "overflow_x": null,
            "overflow_y": null,
            "padding": null,
            "right": null,
            "top": null,
            "visibility": null,
            "width": null
          }
        },
        "b99ad788d5b348da90cd78be4e19941b": {
          "model_module": "@jupyter-widgets/controls",
          "model_name": "ToggleButtonModel",
          "model_module_version": "1.5.0",
          "state": {
            "_dom_classes": [],
            "_model_module": "@jupyter-widgets/controls",
            "_model_module_version": "1.5.0",
            "_model_name": "ToggleButtonModel",
            "_view_count": null,
            "_view_module": "@jupyter-widgets/controls",
            "_view_module_version": "1.5.0",
            "_view_name": "ToggleButtonView",
            "button_style": "",
            "description": "",
            "description_tooltip": null,
            "disabled": false,
            "icon": "wrench",
            "layout": "IPY_MODEL_68641176bee74ed4ab1930129aaf0920",
            "style": "IPY_MODEL_d6bdea2d294d46cf86283b6d420947fa",
            "tooltip": "Toolbar",
            "value": false
          }
        },
        "3000d8b24bc944c09a710081a2b64343": {
          "model_module": "@jupyter-widgets/base",
          "model_name": "LayoutModel",
          "model_module_version": "1.2.0",
          "state": {
            "_model_module": "@jupyter-widgets/base",
            "_model_module_version": "1.2.0",
            "_model_name": "LayoutModel",
            "_view_count": null,
            "_view_module": "@jupyter-widgets/base",
            "_view_module_version": "1.2.0",
            "_view_name": "LayoutView",
            "align_content": null,
            "align_items": null,
            "align_self": null,
            "border": null,
            "bottom": null,
            "display": null,
            "flex": null,
            "flex_flow": null,
            "grid_area": null,
            "grid_auto_columns": null,
            "grid_auto_flow": null,
            "grid_auto_rows": null,
            "grid_column": null,
            "grid_gap": null,
            "grid_row": null,
            "grid_template_areas": null,
            "grid_template_columns": null,
            "grid_template_rows": null,
            "height": null,
            "justify_content": null,
            "justify_items": null,
            "left": null,
            "margin": null,
            "max_height": null,
            "max_width": null,
            "min_height": null,
            "min_width": null,
            "object_fit": null,
            "object_position": null,
            "order": null,
            "overflow": null,
            "overflow_x": null,
            "overflow_y": null,
            "padding": null,
            "right": null,
            "top": null,
            "visibility": null,
            "width": null
          }
        },
        "59bd5a10d76c4c0b933fb6705bff216c": {
          "model_module": "@jupyter-widgets/base",
          "model_name": "LayoutModel",
          "model_module_version": "1.2.0",
          "state": {
            "_model_module": "@jupyter-widgets/base",
            "_model_module_version": "1.2.0",
            "_model_name": "LayoutModel",
            "_view_count": null,
            "_view_module": "@jupyter-widgets/base",
            "_view_module_version": "1.2.0",
            "_view_name": "LayoutView",
            "align_content": null,
            "align_items": null,
            "align_self": null,
            "border": null,
            "bottom": null,
            "display": null,
            "flex": null,
            "flex_flow": null,
            "grid_area": null,
            "grid_auto_columns": null,
            "grid_auto_flow": null,
            "grid_auto_rows": null,
            "grid_column": null,
            "grid_gap": null,
            "grid_row": null,
            "grid_template_areas": null,
            "grid_template_columns": null,
            "grid_template_rows": null,
            "height": null,
            "justify_content": null,
            "justify_items": null,
            "left": null,
            "margin": null,
            "max_height": null,
            "max_width": null,
            "min_height": null,
            "min_width": null,
            "object_fit": null,
            "object_position": null,
            "order": null,
            "overflow": null,
            "overflow_x": null,
            "overflow_y": null,
            "padding": null,
            "right": null,
            "top": null,
            "visibility": null,
            "width": null
          }
        },
        "932c27568907495fb75f1ff10fe16fed": {
          "model_module": "@jupyter-widgets/base",
          "model_name": "LayoutModel",
          "model_module_version": "1.2.0",
          "state": {
            "_model_module": "@jupyter-widgets/base",
            "_model_module_version": "1.2.0",
            "_model_name": "LayoutModel",
            "_view_count": null,
            "_view_module": "@jupyter-widgets/base",
            "_view_module_version": "1.2.0",
            "_view_name": "LayoutView",
            "align_content": null,
            "align_items": null,
            "align_self": null,
            "border": null,
            "bottom": null,
            "display": null,
            "flex": null,
            "flex_flow": null,
            "grid_area": null,
            "grid_auto_columns": null,
            "grid_auto_flow": null,
            "grid_auto_rows": null,
            "grid_column": null,
            "grid_gap": null,
            "grid_row": null,
            "grid_template_areas": null,
            "grid_template_columns": null,
            "grid_template_rows": null,
            "height": "28px",
            "justify_content": null,
            "justify_items": null,
            "left": null,
            "margin": null,
            "max_height": null,
            "max_width": null,
            "min_height": null,
            "min_width": null,
            "object_fit": null,
            "object_position": null,
            "order": null,
            "overflow": null,
            "overflow_x": null,
            "overflow_y": null,
            "padding": "0px 0px 0px 4px",
            "right": null,
            "top": null,
            "visibility": null,
            "width": "28px"
          }
        },
        "24984461ee6049f49e4e6c172ec78ce5": {
          "model_module": "@jupyter-widgets/controls",
          "model_name": "DescriptionStyleModel",
          "model_module_version": "1.5.0",
          "state": {
            "_model_module": "@jupyter-widgets/controls",
            "_model_module_version": "1.5.0",
            "_model_name": "DescriptionStyleModel",
            "_view_count": null,
            "_view_module": "@jupyter-widgets/base",
            "_view_module_version": "1.2.0",
            "_view_name": "StyleView",
            "description_width": ""
          }
        },
        "68641176bee74ed4ab1930129aaf0920": {
          "model_module": "@jupyter-widgets/base",
          "model_name": "LayoutModel",
          "model_module_version": "1.2.0",
          "state": {
            "_model_module": "@jupyter-widgets/base",
            "_model_module_version": "1.2.0",
            "_model_name": "LayoutModel",
            "_view_count": null,
            "_view_module": "@jupyter-widgets/base",
            "_view_module_version": "1.2.0",
            "_view_name": "LayoutView",
            "align_content": null,
            "align_items": null,
            "align_self": null,
            "border": null,
            "bottom": null,
            "display": null,
            "flex": null,
            "flex_flow": null,
            "grid_area": null,
            "grid_auto_columns": null,
            "grid_auto_flow": null,
            "grid_auto_rows": null,
            "grid_column": null,
            "grid_gap": null,
            "grid_row": null,
            "grid_template_areas": null,
            "grid_template_columns": null,
            "grid_template_rows": null,
            "height": "28px",
            "justify_content": null,
            "justify_items": null,
            "left": null,
            "margin": null,
            "max_height": null,
            "max_width": null,
            "min_height": null,
            "min_width": null,
            "object_fit": null,
            "object_position": null,
            "order": null,
            "overflow": null,
            "overflow_x": null,
            "overflow_y": null,
            "padding": "0px 0px 0px 4px",
            "right": null,
            "top": null,
            "visibility": null,
            "width": "28px"
          }
        },
        "d6bdea2d294d46cf86283b6d420947fa": {
          "model_module": "@jupyter-widgets/controls",
          "model_name": "DescriptionStyleModel",
          "model_module_version": "1.5.0",
          "state": {
            "_model_module": "@jupyter-widgets/controls",
            "_model_module_version": "1.5.0",
            "_model_name": "DescriptionStyleModel",
            "_view_count": null,
            "_view_module": "@jupyter-widgets/base",
            "_view_module_version": "1.2.0",
            "_view_name": "StyleView",
            "description_width": ""
          }
        },
        "446df77094a7437098a7c66cc5e7c781": {
          "model_module": "jupyter-leaflet",
          "model_name": "LeafletMapModel",
          "model_module_version": "^0.17",
          "state": {
            "_dom_classes": [],
            "_model_module": "jupyter-leaflet",
            "_model_module_version": "^0.17",
            "_model_name": "LeafletMapModel",
            "_view_count": null,
            "_view_module": "jupyter-leaflet",
            "_view_module_version": "^0.17",
            "_view_name": "LeafletMapView",
            "bottom": 548819,
            "bounce_at_zoom_limits": true,
            "box_zoom": true,
            "center": [
              -8.29,
              -38.7617
            ],
            "close_popup_on_click": true,
            "controls": [
              "IPY_MODEL_7d7f595a8d554f6e83f1b4249af56b39",
              "IPY_MODEL_5415146ec44e4a218585a4bbdeed1a51",
              "IPY_MODEL_b967e230fb594f5597765d6b129f1e06",
              "IPY_MODEL_8fb36d3a6cfb48e0815378a99ae2a045",
              "IPY_MODEL_7f3823758a8a46d0a9dbcffdf57e8222",
              "IPY_MODEL_a8ff2656aebe437a9d60e434b18db322",
              "IPY_MODEL_1ad52cf301074fb9b4b665dbc2738e33",
              "IPY_MODEL_584f82d43239406e8d065e4f57ddb8ac",
              "IPY_MODEL_ecbcd40a247b4b93900a781914ee02a6"
            ],
            "crs": {
              "name": "EPSG3857",
              "custom": false
            },
            "default_style": "IPY_MODEL_69f661175eab47a3b3095a8edace0506",
            "double_click_zoom": true,
            "dragging": true,
            "dragging_style": "IPY_MODEL_1e9601bb80a64d469564c7b82d73fa72",
            "east": -38.41712951660157,
            "fullscreen": false,
            "inertia": true,
            "inertia_deceleration": 3000,
            "inertia_max_speed": 1500,
            "interpolation": "bilinear",
            "keyboard": true,
            "keyboard_pan_offset": 80,
            "keyboard_zoom_offset": 1,
            "layers": [
              "IPY_MODEL_9758886bbe364f24a4e66f20eab8034e",
              "IPY_MODEL_d74bc4eb3c4f47718fdc8be70d8c5d75",
              "IPY_MODEL_0a7db720a3414903a6843af65056679f"
            ],
            "layout": "IPY_MODEL_d6242cd3dae64686a98579cb14faa42a",
            "left": 410382,
            "max_zoom": 24,
            "min_zoom": null,
            "modisdate": "2022-10-07",
            "north": -8.188043233445141,
            "options": [
              "bounce_at_zoom_limits",
              "box_zoom",
              "center",
              "close_popup_on_click",
              "double_click_zoom",
              "dragging",
              "fullscreen",
              "inertia",
              "inertia_deceleration",
              "inertia_max_speed",
              "interpolation",
              "keyboard",
              "keyboard_pan_offset",
              "keyboard_zoom_offset",
              "max_zoom",
              "min_zoom",
              "prefer_canvas",
              "scroll_wheel_zoom",
              "tap",
              "tap_tolerance",
              "touch_zoom",
              "world_copy_jump",
              "zoom",
              "zoom_animation_threshold",
              "zoom_delta",
              "zoom_snap"
            ],
            "panes": {},
            "prefer_canvas": false,
            "right": 412390,
            "scroll_wheel_zoom": true,
            "south": -8.391884358410811,
            "style": "IPY_MODEL_e95dd96e9d964ae591b9fae1c6c87823",
            "tap": true,
            "tap_tolerance": 15,
            "top": 548219,
            "touch_zoom": true,
            "west": -39.10652160644532,
            "window_url": "https://o001uym1yld-496ff2e9c6d22116-0-colab.googleusercontent.com/outputframe.html?vrz=colab-20221006-060055-RC01_479328028",
            "world_copy_jump": false,
            "zoom": 12,
            "zoom_animation_threshold": 4,
            "zoom_delta": 1,
            "zoom_snap": 1
          }
        },
        "7d7f595a8d554f6e83f1b4249af56b39": {
          "model_module": "jupyter-leaflet",
          "model_name": "LeafletWidgetControlModel",
          "model_module_version": "^0.17",
          "state": {
            "_model_module": "jupyter-leaflet",
            "_model_module_version": "^0.17",
            "_model_name": "LeafletWidgetControlModel",
            "_view_count": null,
            "_view_module": "jupyter-leaflet",
            "_view_module_version": "^0.17",
            "_view_name": "LeafletWidgetControlView",
            "max_height": null,
            "max_width": null,
            "min_height": null,
            "min_width": null,
            "options": [
              "position",
              "transparent_bg"
            ],
            "position": "topleft",
            "transparent_bg": false,
            "widget": "IPY_MODEL_69d7c27a29ad4d95b3a733fb094c53df"
          }
        },
        "5415146ec44e4a218585a4bbdeed1a51": {
          "model_module": "jupyter-leaflet",
          "model_name": "LeafletZoomControlModel",
          "model_module_version": "^0.17",
          "state": {
            "_model_module": "jupyter-leaflet",
            "_model_module_version": "^0.17",
            "_model_name": "LeafletZoomControlModel",
            "_view_count": null,
            "_view_module": "jupyter-leaflet",
            "_view_module_version": "^0.17",
            "_view_name": "LeafletZoomControlView",
            "options": [
              "position",
              "zoom_in_text",
              "zoom_in_title",
              "zoom_out_text",
              "zoom_out_title"
            ],
            "position": "topleft",
            "zoom_in_text": "+",
            "zoom_in_title": "Zoom in",
            "zoom_out_text": "-",
            "zoom_out_title": "Zoom out"
          }
        },
        "b967e230fb594f5597765d6b129f1e06": {
          "model_module": "jupyter-leaflet",
          "model_name": "LeafletScaleControlModel",
          "model_module_version": "^0.17",
          "state": {
            "_model_module": "jupyter-leaflet",
            "_model_module_version": "^0.17",
            "_model_name": "LeafletScaleControlModel",
            "_view_count": null,
            "_view_module": "jupyter-leaflet",
            "_view_module_version": "^0.17",
            "_view_name": "LeafletScaleControlView",
            "imperial": true,
            "max_width": 100,
            "metric": true,
            "options": [
              "imperial",
              "max_width",
              "metric",
              "position",
              "update_when_idle"
            ],
            "position": "bottomleft",
            "update_when_idle": false
          }
        },
        "8fb36d3a6cfb48e0815378a99ae2a045": {
          "model_module": "jupyter-leaflet",
          "model_name": "LeafletFullScreenControlModel",
          "model_module_version": "^0.17",
          "state": {
            "_model_module": "jupyter-leaflet",
            "_model_module_version": "^0.17",
            "_model_name": "LeafletFullScreenControlModel",
            "_view_count": null,
            "_view_module": "jupyter-leaflet",
            "_view_module_version": "^0.17",
            "_view_name": "LeafletFullScreenControlView",
            "options": [
              "position"
            ],
            "position": "topleft"
          }
        },
        "7f3823758a8a46d0a9dbcffdf57e8222": {
          "model_module": "jupyter-leaflet",
          "model_name": "LeafletMeasureControlModel",
          "model_module_version": "^0.17",
          "state": {
            "_custom_units": {},
            "_model_module": "jupyter-leaflet",
            "_model_module_version": "^0.17",
            "_model_name": "LeafletMeasureControlModel",
            "_view_count": null,
            "_view_module": "jupyter-leaflet",
            "_view_module_version": "^0.17",
            "_view_name": "LeafletMeasureControlView",
            "active_color": "orange",
            "capture_z_index": 10000,
            "completed_color": "#C8F2BE",
            "options": [
              "active_color",
              "capture_z_index",
              "completed_color",
              "popup_options",
              "position",
              "primary_area_unit",
              "primary_length_unit",
              "secondary_area_unit",
              "secondary_length_unit"
            ],
            "popup_options": {
              "className": "leaflet-measure-resultpopup",
              "autoPanPadding": [
                10,
                10
              ]
            },
            "position": "bottomleft",
            "primary_area_unit": "acres",
            "primary_length_unit": "kilometers",
            "secondary_area_unit": null,
            "secondary_length_unit": null
          }
        },
        "a8ff2656aebe437a9d60e434b18db322": {
          "model_module": "jupyter-leaflet",
          "model_name": "LeafletAttributionControlModel",
          "model_module_version": "^0.17",
          "state": {
            "_model_module": "jupyter-leaflet",
            "_model_module_version": "^0.17",
            "_model_name": "LeafletAttributionControlModel",
            "_view_count": null,
            "_view_module": "jupyter-leaflet",
            "_view_module_version": "^0.17",
            "_view_name": "LeafletAttributionControlView",
            "options": [
              "position",
              "prefix"
            ],
            "position": "bottomright",
            "prefix": "ipyleaflet"
          }
        },
        "1ad52cf301074fb9b4b665dbc2738e33": {
          "model_module": "jupyter-leaflet",
          "model_name": "LeafletDrawControlModel",
          "model_module_version": "^0.17",
          "state": {
            "_model_module": "jupyter-leaflet",
            "_model_module_version": "^0.17",
            "_model_name": "LeafletDrawControlModel",
            "_view_count": null,
            "_view_module": "jupyter-leaflet",
            "_view_module_version": "^0.17",
            "_view_name": "LeafletDrawControlView",
            "circle": {
              "shapeOptions": {
                "color": "#3388ff"
              }
            },
            "circlemarker": {},
            "data": [],
            "edit": true,
            "marker": {
              "shapeOptions": {
                "color": "#3388ff"
              }
            },
            "options": [
              "position"
            ],
            "polygon": {
              "shapeOptions": {}
            },
            "polyline": {
              "shapeOptions": {}
            },
            "position": "topleft",
            "rectangle": {
              "shapeOptions": {
                "color": "#3388ff"
              }
            },
            "remove": true
          }
        },
        "584f82d43239406e8d065e4f57ddb8ac": {
          "model_module": "jupyter-leaflet",
          "model_name": "LeafletWidgetControlModel",
          "model_module_version": "^0.17",
          "state": {
            "_model_module": "jupyter-leaflet",
            "_model_module_version": "^0.17",
            "_model_name": "LeafletWidgetControlModel",
            "_view_count": null,
            "_view_module": "jupyter-leaflet",
            "_view_module_version": "^0.17",
            "_view_name": "LeafletWidgetControlView",
            "max_height": null,
            "max_width": null,
            "min_height": null,
            "min_width": null,
            "options": [
              "position",
              "transparent_bg"
            ],
            "position": "topright",
            "transparent_bg": false,
            "widget": "IPY_MODEL_90848ccb3be7442a9a98d3b5e218b3f6"
          }
        },
        "ecbcd40a247b4b93900a781914ee02a6": {
          "model_module": "jupyter-leaflet",
          "model_name": "LeafletWidgetControlModel",
          "model_module_version": "^0.17",
          "state": {
            "_model_module": "jupyter-leaflet",
            "_model_module_version": "^0.17",
            "_model_name": "LeafletWidgetControlModel",
            "_view_count": null,
            "_view_module": "jupyter-leaflet",
            "_view_module_version": "^0.17",
            "_view_name": "LeafletWidgetControlView",
            "max_height": null,
            "max_width": null,
            "min_height": null,
            "min_width": null,
            "options": [
              "position",
              "transparent_bg"
            ],
            "position": "bottomright",
            "transparent_bg": false,
            "widget": "IPY_MODEL_c124898d75e7416280b6ed68cb16ecd4"
          }
        },
        "69f661175eab47a3b3095a8edace0506": {
          "model_module": "jupyter-leaflet",
          "model_name": "LeafletMapStyleModel",
          "model_module_version": "^0.17",
          "state": {
            "_model_module": "jupyter-leaflet",
            "_model_module_version": "^0.17",
            "_model_name": "LeafletMapStyleModel",
            "_view_count": null,
            "_view_module": "@jupyter-widgets/base",
            "_view_module_version": "1.2.0",
            "_view_name": "StyleView",
            "cursor": "grab"
          }
        },
        "1e9601bb80a64d469564c7b82d73fa72": {
          "model_module": "jupyter-leaflet",
          "model_name": "LeafletMapStyleModel",
          "model_module_version": "^0.17",
          "state": {
            "_model_module": "jupyter-leaflet",
            "_model_module_version": "^0.17",
            "_model_name": "LeafletMapStyleModel",
            "_view_count": null,
            "_view_module": "@jupyter-widgets/base",
            "_view_module_version": "1.2.0",
            "_view_name": "StyleView",
            "cursor": "move"
          }
        },
        "9758886bbe364f24a4e66f20eab8034e": {
          "model_module": "jupyter-leaflet",
          "model_name": "LeafletTileLayerModel",
          "model_module_version": "^0.17",
          "state": {
            "_model_module": "jupyter-leaflet",
            "_model_module_version": "^0.17",
            "_model_name": "LeafletTileLayerModel",
            "_view_count": null,
            "_view_module": "jupyter-leaflet",
            "_view_module_version": "^0.17",
            "_view_name": "LeafletTileLayerView",
            "attribution": "&copy; <a href=\"https://www.openstreetmap.org/copyright\">OpenStreetMap</a> contributors",
            "base": true,
            "bottom": true,
            "bounds": null,
            "detect_retina": false,
            "loading": false,
            "max_native_zoom": null,
            "max_zoom": 19,
            "min_native_zoom": null,
            "min_zoom": 1,
            "name": "OpenStreetMap.Mapnik",
            "no_wrap": false,
            "opacity": 1,
            "options": [
              "attribution",
              "bounds",
              "detect_retina",
              "max_native_zoom",
              "max_zoom",
              "min_native_zoom",
              "min_zoom",
              "no_wrap",
              "tile_size",
              "tms",
              "zoom_offset"
            ],
            "pane": "",
            "popup": null,
            "popup_max_height": null,
            "popup_max_width": 300,
            "popup_min_width": 50,
            "show_loading": false,
            "tile_size": 256,
            "tms": false,
            "url": "https://tile.openstreetmap.org/{z}/{x}/{y}.png",
            "visible": true,
            "zoom_offset": 0
          }
        },
        "0a7db720a3414903a6843af65056679f": {
          "model_module": "jupyter-leaflet",
          "model_name": "LeafletTileLayerModel",
          "model_module_version": "^0.17",
          "state": {
            "_model_module": "jupyter-leaflet",
            "_model_module_version": "^0.17",
            "_model_name": "LeafletTileLayerModel",
            "_view_count": null,
            "_view_module": "jupyter-leaflet",
            "_view_module_version": "^0.17",
            "_view_name": "LeafletTileLayerView",
            "attribution": "Google Earth Engine",
            "base": false,
            "bottom": true,
            "bounds": null,
            "detect_retina": false,
            "loading": false,
            "max_native_zoom": null,
            "max_zoom": 24,
            "min_native_zoom": null,
            "min_zoom": 0,
            "name": "Layer 3",
            "no_wrap": false,
            "opacity": 1,
            "options": [
              "attribution",
              "bounds",
              "detect_retina",
              "max_native_zoom",
              "max_zoom",
              "min_native_zoom",
              "min_zoom",
              "no_wrap",
              "tile_size",
              "tms",
              "zoom_offset"
            ],
            "pane": "",
            "popup": null,
            "popup_max_height": null,
            "popup_max_width": 300,
            "popup_min_width": 50,
            "show_loading": false,
            "tile_size": 256,
            "tms": false,
            "url": "https://earthengine.googleapis.com/v1alpha/projects/earthengine-legacy/maps/b862c72fe21e7c4597bbbb4db33c2c31-ac6e690bde4b4659d39e2ccae5bb6420/tiles/{z}/{x}/{y}",
            "visible": true,
            "zoom_offset": 0
          }
        },
        "d6242cd3dae64686a98579cb14faa42a": {
          "model_module": "@jupyter-widgets/base",
          "model_name": "LayoutModel",
          "model_module_version": "1.2.0",
          "state": {
            "_model_module": "@jupyter-widgets/base",
            "_model_module_version": "1.2.0",
            "_model_name": "LayoutModel",
            "_view_count": null,
            "_view_module": "@jupyter-widgets/base",
            "_view_module_version": "1.2.0",
            "_view_name": "LayoutView",
            "align_content": null,
            "align_items": null,
            "align_self": null,
            "border": null,
            "bottom": null,
            "display": null,
            "flex": null,
            "flex_flow": null,
            "grid_area": null,
            "grid_auto_columns": null,
            "grid_auto_flow": null,
            "grid_auto_rows": null,
            "grid_column": null,
            "grid_gap": null,
            "grid_row": null,
            "grid_template_areas": null,
            "grid_template_columns": null,
            "grid_template_rows": null,
            "height": "600px",
            "justify_content": null,
            "justify_items": null,
            "left": null,
            "margin": null,
            "max_height": null,
            "max_width": null,
            "min_height": null,
            "min_width": null,
            "object_fit": null,
            "object_position": null,
            "order": null,
            "overflow": null,
            "overflow_x": null,
            "overflow_y": null,
            "padding": null,
            "right": null,
            "top": null,
            "visibility": null,
            "width": null
          }
        },
        "e95dd96e9d964ae591b9fae1c6c87823": {
          "model_module": "jupyter-leaflet",
          "model_name": "LeafletMapStyleModel",
          "model_module_version": "^0.17",
          "state": {
            "_model_module": "jupyter-leaflet",
            "_model_module_version": "^0.17",
            "_model_name": "LeafletMapStyleModel",
            "_view_count": null,
            "_view_module": "@jupyter-widgets/base",
            "_view_module_version": "1.2.0",
            "_view_name": "StyleView",
            "cursor": "grab"
          }
        },
        "69d7c27a29ad4d95b3a733fb094c53df": {
          "model_module": "@jupyter-widgets/controls",
          "model_name": "HBoxModel",
          "model_module_version": "1.5.0",
          "state": {
            "_dom_classes": [],
            "_model_module": "@jupyter-widgets/controls",
            "_model_module_version": "1.5.0",
            "_model_name": "HBoxModel",
            "_view_count": null,
            "_view_module": "@jupyter-widgets/controls",
            "_view_module_version": "1.5.0",
            "_view_name": "HBoxView",
            "box_style": "",
            "children": [
              "IPY_MODEL_6c68647948f1447689fe08568eb20184"
            ],
            "layout": "IPY_MODEL_1306c392479f498082634fa258ace07f"
          }
        },
        "90848ccb3be7442a9a98d3b5e218b3f6": {
          "model_module": "@jupyter-widgets/controls",
          "model_name": "VBoxModel",
          "model_module_version": "1.5.0",
          "state": {
            "_dom_classes": [],
            "_model_module": "@jupyter-widgets/controls",
            "_model_module_version": "1.5.0",
            "_model_name": "VBoxModel",
            "_view_count": null,
            "_view_module": "@jupyter-widgets/controls",
            "_view_module_version": "1.5.0",
            "_view_name": "VBoxView",
            "box_style": "",
            "children": [
              "IPY_MODEL_8c5abfb8bab448d5bd0fe74fae30a620"
            ],
            "layout": "IPY_MODEL_2301189fb49a4d2fbba67d6f771485fc"
          }
        },
        "c124898d75e7416280b6ed68cb16ecd4": {
          "model_module": "@jupyter-widgets/output",
          "model_name": "OutputModel",
          "model_module_version": "1.0.0",
          "state": {
            "_dom_classes": [],
            "_model_module": "@jupyter-widgets/output",
            "_model_module_version": "1.0.0",
            "_model_name": "OutputModel",
            "_view_count": null,
            "_view_module": "@jupyter-widgets/output",
            "_view_module_version": "1.0.0",
            "_view_name": "OutputView",
            "layout": "IPY_MODEL_5d753b8179c54614bc721a367c941bbd",
            "msg_id": "",
            "outputs": [
              {
                "output_type": "display_data",
                "data": {
                  "text/plain": "<Figure size 600x40 with 1 Axes>",
                  "image/png": "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\n"
                },
                "metadata": {
                  "image/png": {
                    "width": 600,
                    "height": 40
                  }
                }
              }
            ]
          }
        },
        "6c68647948f1447689fe08568eb20184": {
          "model_module": "@jupyter-widgets/controls",
          "model_name": "ToggleButtonModel",
          "model_module_version": "1.5.0",
          "state": {
            "_dom_classes": [],
            "_model_module": "@jupyter-widgets/controls",
            "_model_module_version": "1.5.0",
            "_model_name": "ToggleButtonModel",
            "_view_count": null,
            "_view_module": "@jupyter-widgets/controls",
            "_view_module_version": "1.5.0",
            "_view_name": "ToggleButtonView",
            "button_style": "",
            "description": "",
            "description_tooltip": null,
            "disabled": false,
            "icon": "globe",
            "layout": "IPY_MODEL_8b6f75f7812e4bdc9cd280dc9a6b7a10",
            "style": "IPY_MODEL_716cae6c61e44e7f9dafef9c21cc0f7a",
            "tooltip": "Search location/data",
            "value": false
          }
        },
        "1306c392479f498082634fa258ace07f": {
          "model_module": "@jupyter-widgets/base",
          "model_name": "LayoutModel",
          "model_module_version": "1.2.0",
          "state": {
            "_model_module": "@jupyter-widgets/base",
            "_model_module_version": "1.2.0",
            "_model_name": "LayoutModel",
            "_view_count": null,
            "_view_module": "@jupyter-widgets/base",
            "_view_module_version": "1.2.0",
            "_view_name": "LayoutView",
            "align_content": null,
            "align_items": null,
            "align_self": null,
            "border": null,
            "bottom": null,
            "display": null,
            "flex": null,
            "flex_flow": null,
            "grid_area": null,
            "grid_auto_columns": null,
            "grid_auto_flow": null,
            "grid_auto_rows": null,
            "grid_column": null,
            "grid_gap": null,
            "grid_row": null,
            "grid_template_areas": null,
            "grid_template_columns": null,
            "grid_template_rows": null,
            "height": null,
            "justify_content": null,
            "justify_items": null,
            "left": null,
            "margin": null,
            "max_height": null,
            "max_width": null,
            "min_height": null,
            "min_width": null,
            "object_fit": null,
            "object_position": null,
            "order": null,
            "overflow": null,
            "overflow_x": null,
            "overflow_y": null,
            "padding": null,
            "right": null,
            "top": null,
            "visibility": null,
            "width": null
          }
        },
        "8c5abfb8bab448d5bd0fe74fae30a620": {
          "model_module": "@jupyter-widgets/controls",
          "model_name": "ToggleButtonModel",
          "model_module_version": "1.5.0",
          "state": {
            "_dom_classes": [],
            "_model_module": "@jupyter-widgets/controls",
            "_model_module_version": "1.5.0",
            "_model_name": "ToggleButtonModel",
            "_view_count": null,
            "_view_module": "@jupyter-widgets/controls",
            "_view_module_version": "1.5.0",
            "_view_name": "ToggleButtonView",
            "button_style": "",
            "description": "",
            "description_tooltip": null,
            "disabled": false,
            "icon": "wrench",
            "layout": "IPY_MODEL_8060ba36c7c04578880c35436b9ccdee",
            "style": "IPY_MODEL_a0431fdbe5c64b048bd445fbf69e6c5f",
            "tooltip": "Toolbar",
            "value": false
          }
        },
        "2301189fb49a4d2fbba67d6f771485fc": {
          "model_module": "@jupyter-widgets/base",
          "model_name": "LayoutModel",
          "model_module_version": "1.2.0",
          "state": {
            "_model_module": "@jupyter-widgets/base",
            "_model_module_version": "1.2.0",
            "_model_name": "LayoutModel",
            "_view_count": null,
            "_view_module": "@jupyter-widgets/base",
            "_view_module_version": "1.2.0",
            "_view_name": "LayoutView",
            "align_content": null,
            "align_items": null,
            "align_self": null,
            "border": null,
            "bottom": null,
            "display": null,
            "flex": null,
            "flex_flow": null,
            "grid_area": null,
            "grid_auto_columns": null,
            "grid_auto_flow": null,
            "grid_auto_rows": null,
            "grid_column": null,
            "grid_gap": null,
            "grid_row": null,
            "grid_template_areas": null,
            "grid_template_columns": null,
            "grid_template_rows": null,
            "height": null,
            "justify_content": null,
            "justify_items": null,
            "left": null,
            "margin": null,
            "max_height": null,
            "max_width": null,
            "min_height": null,
            "min_width": null,
            "object_fit": null,
            "object_position": null,
            "order": null,
            "overflow": null,
            "overflow_x": null,
            "overflow_y": null,
            "padding": null,
            "right": null,
            "top": null,
            "visibility": null,
            "width": null
          }
        },
        "5d753b8179c54614bc721a367c941bbd": {
          "model_module": "@jupyter-widgets/base",
          "model_name": "LayoutModel",
          "model_module_version": "1.2.0",
          "state": {
            "_model_module": "@jupyter-widgets/base",
            "_model_module_version": "1.2.0",
            "_model_name": "LayoutModel",
            "_view_count": null,
            "_view_module": "@jupyter-widgets/base",
            "_view_module_version": "1.2.0",
            "_view_name": "LayoutView",
            "align_content": null,
            "align_items": null,
            "align_self": null,
            "border": null,
            "bottom": null,
            "display": null,
            "flex": null,
            "flex_flow": null,
            "grid_area": null,
            "grid_auto_columns": null,
            "grid_auto_flow": null,
            "grid_auto_rows": null,
            "grid_column": null,
            "grid_gap": null,
            "grid_row": null,
            "grid_template_areas": null,
            "grid_template_columns": null,
            "grid_template_rows": null,
            "height": null,
            "justify_content": null,
            "justify_items": null,
            "left": null,
            "margin": null,
            "max_height": null,
            "max_width": null,
            "min_height": null,
            "min_width": null,
            "object_fit": null,
            "object_position": null,
            "order": null,
            "overflow": null,
            "overflow_x": null,
            "overflow_y": null,
            "padding": null,
            "right": null,
            "top": null,
            "visibility": null,
            "width": null
          }
        },
        "8b6f75f7812e4bdc9cd280dc9a6b7a10": {
          "model_module": "@jupyter-widgets/base",
          "model_name": "LayoutModel",
          "model_module_version": "1.2.0",
          "state": {
            "_model_module": "@jupyter-widgets/base",
            "_model_module_version": "1.2.0",
            "_model_name": "LayoutModel",
            "_view_count": null,
            "_view_module": "@jupyter-widgets/base",
            "_view_module_version": "1.2.0",
            "_view_name": "LayoutView",
            "align_content": null,
            "align_items": null,
            "align_self": null,
            "border": null,
            "bottom": null,
            "display": null,
            "flex": null,
            "flex_flow": null,
            "grid_area": null,
            "grid_auto_columns": null,
            "grid_auto_flow": null,
            "grid_auto_rows": null,
            "grid_column": null,
            "grid_gap": null,
            "grid_row": null,
            "grid_template_areas": null,
            "grid_template_columns": null,
            "grid_template_rows": null,
            "height": "28px",
            "justify_content": null,
            "justify_items": null,
            "left": null,
            "margin": null,
            "max_height": null,
            "max_width": null,
            "min_height": null,
            "min_width": null,
            "object_fit": null,
            "object_position": null,
            "order": null,
            "overflow": null,
            "overflow_x": null,
            "overflow_y": null,
            "padding": "0px 0px 0px 4px",
            "right": null,
            "top": null,
            "visibility": null,
            "width": "28px"
          }
        },
        "716cae6c61e44e7f9dafef9c21cc0f7a": {
          "model_module": "@jupyter-widgets/controls",
          "model_name": "DescriptionStyleModel",
          "model_module_version": "1.5.0",
          "state": {
            "_model_module": "@jupyter-widgets/controls",
            "_model_module_version": "1.5.0",
            "_model_name": "DescriptionStyleModel",
            "_view_count": null,
            "_view_module": "@jupyter-widgets/base",
            "_view_module_version": "1.2.0",
            "_view_name": "StyleView",
            "description_width": ""
          }
        },
        "8060ba36c7c04578880c35436b9ccdee": {
          "model_module": "@jupyter-widgets/base",
          "model_name": "LayoutModel",
          "model_module_version": "1.2.0",
          "state": {
            "_model_module": "@jupyter-widgets/base",
            "_model_module_version": "1.2.0",
            "_model_name": "LayoutModel",
            "_view_count": null,
            "_view_module": "@jupyter-widgets/base",
            "_view_module_version": "1.2.0",
            "_view_name": "LayoutView",
            "align_content": null,
            "align_items": null,
            "align_self": null,
            "border": null,
            "bottom": null,
            "display": null,
            "flex": null,
            "flex_flow": null,
            "grid_area": null,
            "grid_auto_columns": null,
            "grid_auto_flow": null,
            "grid_auto_rows": null,
            "grid_column": null,
            "grid_gap": null,
            "grid_row": null,
            "grid_template_areas": null,
            "grid_template_columns": null,
            "grid_template_rows": null,
            "height": "28px",
            "justify_content": null,
            "justify_items": null,
            "left": null,
            "margin": null,
            "max_height": null,
            "max_width": null,
            "min_height": null,
            "min_width": null,
            "object_fit": null,
            "object_position": null,
            "order": null,
            "overflow": null,
            "overflow_x": null,
            "overflow_y": null,
            "padding": "0px 0px 0px 4px",
            "right": null,
            "top": null,
            "visibility": null,
            "width": "28px"
          }
        },
        "a0431fdbe5c64b048bd445fbf69e6c5f": {
          "model_module": "@jupyter-widgets/controls",
          "model_name": "DescriptionStyleModel",
          "model_module_version": "1.5.0",
          "state": {
            "_model_module": "@jupyter-widgets/controls",
            "_model_module_version": "1.5.0",
            "_model_name": "DescriptionStyleModel",
            "_view_count": null,
            "_view_module": "@jupyter-widgets/base",
            "_view_module_version": "1.2.0",
            "_view_name": "StyleView",
            "description_width": ""
          }
        }
      }
    }
  },
  "nbformat": 4,
  "nbformat_minor": 0
}